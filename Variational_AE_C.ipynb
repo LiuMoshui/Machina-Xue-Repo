{
 "cells": [
  {
   "cell_type": "code",
   "execution_count": 1,
   "metadata": {},
   "outputs": [],
   "source": [
    "import os\n",
    "import torch\n",
    "import torch.nn as nn\n",
    "import torch.nn.functional as F\n",
    "import torchvision\n",
    "from torchvision import transforms\n",
    "from torchvision.utils import save_image"
   ]
  },
  {
   "cell_type": "code",
   "execution_count": 2,
   "metadata": {},
   "outputs": [
    {
     "name": "stdout",
     "output_type": "stream",
     "text": [
      "Downloading http://yann.lecun.com/exdb/mnist/train-images-idx3-ubyte.gz\n",
      "Downloading http://yann.lecun.com/exdb/mnist/train-images-idx3-ubyte.gz to /data\\MNIST\\raw\\train-images-idx3-ubyte.gz\n"
     ]
    },
    {
     "name": "stderr",
     "output_type": "stream",
     "text": [
      "100%|██████████████████████████████████████████████████████████████████| 9912422/9912422 [00:00<00:00, 19547397.33it/s]\n"
     ]
    },
    {
     "name": "stdout",
     "output_type": "stream",
     "text": [
      "Extracting /data\\MNIST\\raw\\train-images-idx3-ubyte.gz to /data\\MNIST\\raw\n",
      "\n",
      "Downloading http://yann.lecun.com/exdb/mnist/train-labels-idx1-ubyte.gz\n",
      "Downloading http://yann.lecun.com/exdb/mnist/train-labels-idx1-ubyte.gz to /data\\MNIST\\raw\\train-labels-idx1-ubyte.gz\n"
     ]
    },
    {
     "name": "stderr",
     "output_type": "stream",
     "text": [
      "100%|██████████████████████████████████████████████████████████████████████| 28881/28881 [00:00<00:00, 28924473.21it/s]\n"
     ]
    },
    {
     "name": "stdout",
     "output_type": "stream",
     "text": [
      "Extracting /data\\MNIST\\raw\\train-labels-idx1-ubyte.gz to /data\\MNIST\\raw\n",
      "\n",
      "Downloading http://yann.lecun.com/exdb/mnist/t10k-images-idx3-ubyte.gz\n",
      "Downloading http://yann.lecun.com/exdb/mnist/t10k-images-idx3-ubyte.gz to /data\\MNIST\\raw\\t10k-images-idx3-ubyte.gz\n"
     ]
    },
    {
     "name": "stderr",
     "output_type": "stream",
     "text": [
      "100%|██████████████████████████████████████████████████████████████████| 1648877/1648877 [00:00<00:00, 14363609.81it/s]\n"
     ]
    },
    {
     "name": "stdout",
     "output_type": "stream",
     "text": [
      "Extracting /data\\MNIST\\raw\\t10k-images-idx3-ubyte.gz to /data\\MNIST\\raw\n",
      "\n",
      "Downloading http://yann.lecun.com/exdb/mnist/t10k-labels-idx1-ubyte.gz\n",
      "Downloading http://yann.lecun.com/exdb/mnist/t10k-labels-idx1-ubyte.gz to /data\\MNIST\\raw\\t10k-labels-idx1-ubyte.gz\n"
     ]
    },
    {
     "name": "stderr",
     "output_type": "stream",
     "text": [
      "100%|█████████████████████████████████████████████████████████████████████████| 4542/4542 [00:00<00:00, 4506867.46it/s]"
     ]
    },
    {
     "name": "stdout",
     "output_type": "stream",
     "text": [
      "Extracting /data\\MNIST\\raw\\t10k-labels-idx1-ubyte.gz to /data\\MNIST\\raw\n",
      "\n"
     ]
    },
    {
     "name": "stderr",
     "output_type": "stream",
     "text": [
      "\n"
     ]
    }
   ],
   "source": [
    "# Define hyperparameters:\n",
    "image_size = 784  # Flattened size of MNIST images (28x28)\n",
    "hidden_dim = 400  # Dimension of hidden layer in VAE\n",
    "latent_dim = 20   # Dimension of latent space\n",
    "batch_size = 128  # Batch size for training and testing\n",
    "epochs = 10       # Number of training epochs\n",
    "\n",
    "# Set device to GPU if available, else CPU\n",
    "device = torch.device(\"cuda\" if torch.cuda.is_available() else \"cpu\")\n",
    "\n",
    "# Load and transform MNIST dataset for training:\n",
    "train_dataset = torchvision.datasets.MNIST(root='/data',\n",
    "                                           train=True,\n",
    "                                           transform=transforms.ToTensor(),\n",
    "                                           download=True)\n",
    "\n",
    "# DataLoader for the training dataset:\n",
    "train_loader = torch.utils.data.DataLoader(dataset=train_dataset,\n",
    "                                           batch_size=batch_size, \n",
    "                                           shuffle=True)\n",
    "\n",
    "# Load and transform MNIST dataset for testing:\n",
    "test_dataset = torchvision.datasets.MNIST(root='/data',\n",
    "                                          train=False,\n",
    "                                          transform=transforms.ToTensor())\n",
    "\n",
    "# DataLoader for the test dataset:\n",
    "test_loader = torch.utils.data.DataLoader(dataset=test_dataset,\n",
    "                                          batch_size=batch_size, \n",
    "                                          shuffle=True)\n",
    "\n",
    "# Create directory to save the reconstructed and sampled images (if directory not present):\n",
    "sample_dir = 'results'\n",
    "if not os.path.exists(sample_dir):\n",
    "    os.makedirs(sample_dir)"
   ]
  },
  {
   "cell_type": "markdown",
   "metadata": {},
   "source": [
    "![vae](https://user-images.githubusercontent.com/30661597/78418103-a2047200-766b-11ea-8205-c7e5712715f4.png)"
   ]
  },
  {
   "cell_type": "code",
   "execution_count": 3,
   "metadata": {},
   "outputs": [],
   "source": [
    "# Define the VAE class:\n",
    "class VAE(nn.Module):\n",
    "    def __init__(self):\n",
    "        super(VAE, self).__init__()\n",
    "        \n",
    "        # Fully connected layers for the encoder:\n",
    "        self.fc1 = nn.Linear(image_size, hidden_dim)  # Input to hidden layer\n",
    "        self.fc2_mean = nn.Linear(hidden_dim, latent_dim)  # Hidden to latent mean\n",
    "        self.fc2_logvar = nn.Linear(hidden_dim, latent_dim)  # Hidden to latent log variance\n",
    "\n",
    "        # Fully connected layers for the decoder\n",
    "        self.fc3 = nn.Linear(latent_dim, hidden_dim)  # Latent to hidden layer\n",
    "        self.fc4 = nn.Linear(hidden_dim, image_size)  # Hidden to output layer\n",
    "        \n",
    "        \n",
    "    def encode(self, x):\n",
    "        # Encoder that outputs mean and log variance of latent distribution\n",
    "        h = F.relu(self.fc1(x))\n",
    "        mu = self.fc2_mean(h)\n",
    "        log_var = self.fc2_logvar(h)\n",
    "        return mu, log_var\n",
    "    \n",
    "    def reparameterize(self, mu, logvar):\n",
    "        # Reparameterization trick to sample from latent distribution\n",
    "        std = torch.exp(logvar/2)\n",
    "        eps = torch.randn_like(std)\n",
    "        return mu + eps * std\n",
    "    \n",
    "    def decode(self, z):\n",
    "        # Decoder that maps latent space to output\n",
    "        h = F.relu(self.fc3(z))\n",
    "        out = torch.sigmoid(self.fc4(h))\n",
    "        return out\n",
    "    \n",
    "    def forward(self, x):\n",
    "        # <<x: (batch_size, 1, 28,28) --> (batch_size, 784)>>\n",
    "        # Forward pass through the network\n",
    "        mu, logvar = self.encode(x.view(-1, image_size))  # Flatten image and encode\n",
    "        z = self.reparameterize(mu, logvar)               # Sample from latent space\n",
    "        reconstructed = self.decode(z)                   # Decode sample to reconstruct image\n",
    "        \n",
    "        return reconstructed, mu, logvar\n",
    "\n",
    "# Initialize the VAE model and move it to the appropriate device (GPU/CPU):\n",
    "model = VAE().to(device)\n",
    "\n",
    "# Define the optimizer for training\n",
    "optimizer = torch.optim.Adam(model.parameters(), lr=1e-3)"
   ]
  },
  {
   "cell_type": "markdown",
   "metadata": {},
   "source": [
    "$Loss = -E[\\log P(X | z)]+D_{K L}[N(\\mu(X), \\Sigma(X)) \\| N(0,1)]$"
   ]
  },
  {
   "cell_type": "markdown",
   "metadata": {},
   "source": [
    "#### $D_{K L}[N(\\mu(X), \\Sigma(X)) \\| N(0,1)]=\\frac{1}{2} \\sum_{k}\\left(\\exp (\\Sigma(X))+\\mu^{2}(X)-1-\\Sigma(X)\\right)$"
   ]
  },
  {
   "cell_type": "code",
   "execution_count": 4,
   "metadata": {},
   "outputs": [],
   "source": [
    "# Define the VAE loss function:\n",
    "def loss_function(reconstructed_image, original_image, mu, logvar):\n",
    "    # Binary Cross Entropy between the original and reconstructed image\n",
    "    bce = F.binary_cross_entropy(reconstructed_image, original_image.view(-1, 784), reduction = 'sum')\n",
    "    \n",
    "    # Kullback-Leibler divergence losses summed over all elements and batch\n",
    "    kld = 0.5 * torch.sum(logvar.exp() + mu.pow(2) - 1 - logvar)\n",
    "    # <<kld = torch.sum(0.5 * torch.sum(logvar.exp() + mu.pow(2) - 1 - logvar, 1))>>\n",
    "        \n",
    "    return bce + kld\n",
    "    \n",
    "\n",
    "# Train the VAE\n",
    "def train(epoch):\n",
    "    model.train() # Set the model to training mode\n",
    "    train_loss = 0\n",
    "    \n",
    "    # Loop over each batch from the training set:\n",
    "    for i, (images, _) in enumerate(train_loader):\n",
    "        images = images.to(device) # Move images to the device\n",
    "        reconstructed, mu, logvar = model(images) # Forward pass\n",
    "        loss = loss_function(reconstructed, images, mu, logvar) # Compute loss\n",
    "\n",
    "        optimizer.zero_grad()  # Zero out gradients\n",
    "        loss.backward()  # Backpropagation\n",
    "        train_loss += loss.item()  # Accumulate the training loss\n",
    "        optimizer.step()  # Update the weights\n",
    "       \n",
    "        # Print loss every 100 batches:\n",
    "        if i % 100 == 0:\n",
    "            print(\"Train Epoch {} [Batch {}/{}]\\tLoss: {:.3f}\".format(epoch, i, len(train_loader), loss.item()/len(images)))\n",
    "     \n",
    "    # Print average loss for the epoch\n",
    "    print('=====> Epoch {}, Average Loss: {:.3f}'.format(epoch, train_loss/len(train_loader.dataset)))\n",
    "\n",
    "\n",
    "# Test the VAE:\n",
    "def test(epoch):\n",
    "    model.eval()\n",
    "    test_loss = 0 # Set the model to evaluation mode\n",
    "    \n",
    "    # Disable gradient calculations\n",
    "    with torch.no_grad():\n",
    "        for batch_idx, (images, _) in enumerate(test_loader):\n",
    "            images = images.to(device)  # Move images to the device\n",
    "            reconstructed, mu, logvar = model(images)  # Forward pass\n",
    "            test_loss += loss_function(reconstructed, images, mu, logvar).item()  # Compute and accumulate loss\n",
    "            \n",
    "            # Save the first batch of real and reconstructed images\n",
    "            if batch_idx == 0:\n",
    "                comparison = torch.cat([images[:5], reconstructed.view(batch_size, 1, 28, 28)[:5]])\n",
    "                save_image(comparison.cpu(), 'results/reconstruction_' + str(epoch) + '.png', nrow = 5)\n",
    "    \n",
    "    # Print average loss for the test set:\n",
    "    print('=====> Average Test Loss: {:.3f}'.format(test_loss/len(test_loader.dataset)))"
   ]
  },
  {
   "cell_type": "code",
   "execution_count": 5,
   "metadata": {},
   "outputs": [
    {
     "name": "stdout",
     "output_type": "stream",
     "text": [
      "Train Epoch 1 [Batch 0/469]\tLoss: 548.362\n",
      "Train Epoch 1 [Batch 100/469]\tLoss: 184.418\n",
      "Train Epoch 1 [Batch 200/469]\tLoss: 150.321\n",
      "Train Epoch 1 [Batch 300/469]\tLoss: 143.018\n",
      "Train Epoch 1 [Batch 400/469]\tLoss: 129.501\n",
      "=====> Epoch 1, Average Loss: 165.459\n",
      "=====> Average Test Loss: 128.130\n",
      "Train Epoch 2 [Batch 0/469]\tLoss: 128.493\n",
      "Train Epoch 2 [Batch 100/469]\tLoss: 126.065\n",
      "Train Epoch 2 [Batch 200/469]\tLoss: 115.037\n",
      "Train Epoch 2 [Batch 300/469]\tLoss: 119.969\n",
      "Train Epoch 2 [Batch 400/469]\tLoss: 115.301\n",
      "=====> Epoch 2, Average Loss: 122.249\n",
      "=====> Average Test Loss: 116.300\n",
      "Train Epoch 3 [Batch 0/469]\tLoss: 116.082\n",
      "Train Epoch 3 [Batch 100/469]\tLoss: 112.912\n",
      "Train Epoch 3 [Batch 200/469]\tLoss: 117.561\n",
      "Train Epoch 3 [Batch 300/469]\tLoss: 110.648\n",
      "Train Epoch 3 [Batch 400/469]\tLoss: 114.934\n",
      "=====> Epoch 3, Average Loss: 114.982\n",
      "=====> Average Test Loss: 112.051\n",
      "Train Epoch 4 [Batch 0/469]\tLoss: 116.126\n",
      "Train Epoch 4 [Batch 100/469]\tLoss: 115.840\n",
      "Train Epoch 4 [Batch 200/469]\tLoss: 115.666\n",
      "Train Epoch 4 [Batch 300/469]\tLoss: 113.530\n",
      "Train Epoch 4 [Batch 400/469]\tLoss: 108.951\n",
      "=====> Epoch 4, Average Loss: 111.835\n",
      "=====> Average Test Loss: 109.880\n",
      "Train Epoch 5 [Batch 0/469]\tLoss: 113.605\n",
      "Train Epoch 5 [Batch 100/469]\tLoss: 113.464\n",
      "Train Epoch 5 [Batch 200/469]\tLoss: 112.310\n",
      "Train Epoch 5 [Batch 300/469]\tLoss: 113.641\n",
      "Train Epoch 5 [Batch 400/469]\tLoss: 107.756\n",
      "=====> Epoch 5, Average Loss: 110.079\n",
      "=====> Average Test Loss: 108.847\n",
      "Train Epoch 6 [Batch 0/469]\tLoss: 113.696\n",
      "Train Epoch 6 [Batch 100/469]\tLoss: 112.223\n",
      "Train Epoch 6 [Batch 200/469]\tLoss: 108.162\n",
      "Train Epoch 6 [Batch 300/469]\tLoss: 110.868\n",
      "Train Epoch 6 [Batch 400/469]\tLoss: 107.579\n",
      "=====> Epoch 6, Average Loss: 108.897\n",
      "=====> Average Test Loss: 107.642\n",
      "Train Epoch 7 [Batch 0/469]\tLoss: 106.968\n",
      "Train Epoch 7 [Batch 100/469]\tLoss: 110.727\n",
      "Train Epoch 7 [Batch 200/469]\tLoss: 108.108\n",
      "Train Epoch 7 [Batch 300/469]\tLoss: 112.331\n",
      "Train Epoch 7 [Batch 400/469]\tLoss: 105.873\n",
      "=====> Epoch 7, Average Loss: 108.045\n",
      "=====> Average Test Loss: 107.330\n",
      "Train Epoch 8 [Batch 0/469]\tLoss: 109.565\n",
      "Train Epoch 8 [Batch 100/469]\tLoss: 109.620\n",
      "Train Epoch 8 [Batch 200/469]\tLoss: 105.757\n",
      "Train Epoch 8 [Batch 300/469]\tLoss: 105.879\n",
      "Train Epoch 8 [Batch 400/469]\tLoss: 108.612\n",
      "=====> Epoch 8, Average Loss: 107.409\n",
      "=====> Average Test Loss: 106.666\n",
      "Train Epoch 9 [Batch 0/469]\tLoss: 110.352\n",
      "Train Epoch 9 [Batch 100/469]\tLoss: 106.179\n",
      "Train Epoch 9 [Batch 200/469]\tLoss: 106.153\n",
      "Train Epoch 9 [Batch 300/469]\tLoss: 105.965\n",
      "Train Epoch 9 [Batch 400/469]\tLoss: 107.059\n",
      "=====> Epoch 9, Average Loss: 106.914\n",
      "=====> Average Test Loss: 106.171\n",
      "Train Epoch 10 [Batch 0/469]\tLoss: 106.487\n",
      "Train Epoch 10 [Batch 100/469]\tLoss: 108.544\n",
      "Train Epoch 10 [Batch 200/469]\tLoss: 105.086\n",
      "Train Epoch 10 [Batch 300/469]\tLoss: 107.332\n",
      "Train Epoch 10 [Batch 400/469]\tLoss: 108.021\n",
      "=====> Epoch 10, Average Loss: 106.451\n",
      "=====> Average Test Loss: 105.846\n"
     ]
    }
   ],
   "source": [
    "# Main training and testing loop\n",
    "\n",
    "for epoch in range(1, epochs + 1):\n",
    "    # Train the model for one epoch\n",
    "    train(epoch)\n",
    "    \n",
    "     # Test the model after training\n",
    "    test(epoch)\n",
    "    \n",
    "    # Generate and save new images after each epoch\n",
    "    with torch.no_grad():\n",
    "        # Generate random latent vectors (sampled from a Gaussian distribution)\n",
    "        sample = torch.randn(64,20).to(device) # 64 samples, latent_dim = 20\n",
    "        \n",
    "        # Decode the latent vectors to generate images\n",
    "        generated = model.decode(sample).cpu() \n",
    "        \n",
    "        # Save the generated images to disk\n",
    "        save_image(generated.view(64,1,28,28), 'results/sample_' + str(epoch) + '.png')"
   ]
  }
 ],
 "metadata": {
  "kernelspec": {
   "display_name": "Python 3 (ipykernel)",
   "language": "python",
   "name": "python3"
  },
  "language_info": {
   "codemirror_mode": {
    "name": "ipython",
    "version": 3
   },
   "file_extension": ".py",
   "mimetype": "text/x-python",
   "name": "python",
   "nbconvert_exporter": "python",
   "pygments_lexer": "ipython3",
   "version": "3.10.9"
  }
 },
 "nbformat": 4,
 "nbformat_minor": 2
}
