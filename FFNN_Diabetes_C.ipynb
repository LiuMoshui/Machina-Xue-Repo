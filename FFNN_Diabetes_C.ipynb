{
 "cells": [
  {
   "cell_type": "code",
   "execution_count": 1,
   "metadata": {},
   "outputs": [],
   "source": [
    "import numpy as np\n",
    "import torch\n",
    "import torch.nn as nn\n",
    "import pandas as pd\n",
    "from sklearn.preprocessing import StandardScaler\n",
    "from torch.utils.data import Dataset"
   ]
  },
  {
   "cell_type": "code",
   "execution_count": 2,
   "metadata": {},
   "outputs": [],
   "source": [
    "# Load the dataset using Pandas\n",
    "data = pd.read_csv('diabetes.csv')"
   ]
  },
  {
   "cell_type": "code",
   "execution_count": 4,
   "metadata": {},
   "outputs": [],
   "source": [
    "# For x: Extract out the dataset from all the rows (all samples) and all columns except last column (all features). \n",
    "# For y: Extract out the last column (which is the label)\n",
    "# Convert x to numpy using the .values method\n",
    "x = data.iloc[:,0:-1].values\n",
    "y_string= list(data.iloc[:,-1])"
   ]
  },
  {
   "cell_type": "code",
   "execution_count": 5,
   "metadata": {},
   "outputs": [
    {
     "name": "stdout",
     "output_type": "stream",
     "text": [
      "[[  6.  148.   72.   35.    0.   33.6  50. ]\n",
      " [  1.   85.   66.   29.    0.   26.6  31. ]\n",
      " [  8.  183.   64.    0.    0.   23.3  32. ]]\n",
      "['positive', 'negative', 'positive']\n"
     ]
    }
   ],
   "source": [
    "print(x[:3]) # Display the first three rows of the feature variables stored in 'x'.\n",
    "print(y_string[:3]) # Display the first three elements of the target variable array 'y_string'."
   ]
  },
  {
   "cell_type": "code",
   "execution_count": 6,
   "metadata": {},
   "outputs": [],
   "source": [
    "# Convert the string labels in 'y_string' to integer labels and store them in 'y_int'.\n",
    "y_int = []\n",
    "for string in y_string:\n",
    "    if string == 'positive':\n",
    "        y_int.append(1) # Append 1 to 'y_int' for each 'positive' label in 'y_string'.\n",
    "    else:\n",
    "        y_int.append(0) # Append 0 to 'y_int' for each label in 'y_string' that is not 'positive'."
   ]
  },
  {
   "cell_type": "code",
   "execution_count": 7,
   "metadata": {},
   "outputs": [],
   "source": [
    "# Convert the list 'y_int' to a NumPy array 'y' with the data type 'float64'.\n",
    "y = np.array(y_int, dtype = 'float64')"
   ]
  },
  {
   "cell_type": "markdown",
   "metadata": {},
   "source": [
    "### $x^{\\prime}=\\frac{x-\\mu}{\\sigma}$"
   ]
  },
  {
   "cell_type": "code",
   "execution_count": 8,
   "metadata": {},
   "outputs": [],
   "source": [
    "# Apply Feature Normalization to x through StandardScaler(): all features should have the same range of values (-1,1)\n",
    "sc = StandardScaler()\n",
    "x = sc.fit_transform(x)"
   ]
  },
  {
   "cell_type": "code",
   "execution_count": 9,
   "metadata": {},
   "outputs": [],
   "source": [
    "# Convert the NumPy array 'x' into a PyTorch tensor for use in neural network training.\n",
    "x = torch.tensor(x)\n",
    "# Convert the NumPy array 'y' into a PyTorch tensor and add an extra dimension.\n",
    "# An extra dimension is added to convert this array to 2D.\n",
    "y = torch.tensor(y).unsqueeze(1)"
   ]
  },
  {
   "cell_type": "code",
   "execution_count": 10,
   "metadata": {},
   "outputs": [
    {
     "name": "stdout",
     "output_type": "stream",
     "text": [
      "torch.Size([768, 7])\n",
      "torch.Size([768, 1])\n"
     ]
    }
   ],
   "source": [
    "print(x.shape)\n",
    "print(y.shape)"
   ]
  },
  {
   "cell_type": "code",
   "execution_count": 11,
   "metadata": {},
   "outputs": [],
   "source": [
    "# Define a custom Dataset class for handling the diabetes dataset in PyTorch.\n",
    "\n",
    "# __init__: Initialize the Dataset object with feature tensor 'x' and label tensor 'y'.\n",
    "\n",
    "# __getitem__: Enable retrieval of a single data point (features and label) from the dataset using its index.\n",
    "\n",
    "# __len__: Return the total number of samples in the dataset, which is useful for iterating over the dataset.\n",
    "\n",
    "class Dataset(Dataset):\n",
    "\n",
    "    def __init__(self,x,y):\n",
    "        self.x = x\n",
    "        self.y = y\n",
    "        \n",
    "    def __getitem__(self,index):\n",
    "        return self.x[index], self.y[index]\n",
    "    \n",
    "    def __len__(self):\n",
    "        return len(self.x)"
   ]
  },
  {
   "cell_type": "code",
   "execution_count": 12,
   "metadata": {},
   "outputs": [],
   "source": [
    "dataset = Dataset(x,y)"
   ]
  },
  {
   "cell_type": "code",
   "execution_count": 13,
   "metadata": {},
   "outputs": [
    {
     "data": {
      "text/plain": [
       "768"
      ]
     },
     "execution_count": 13,
     "metadata": {},
     "output_type": "execute_result"
    }
   ],
   "source": [
    "len(dataset)"
   ]
  },
  {
   "cell_type": "code",
   "execution_count": 14,
   "metadata": {},
   "outputs": [],
   "source": [
    "# Initialize a DataLoader for the dataset, for batch processing, with a batch size of 32 and enabled shuffling.\n",
    "train_loader = torch.utils.data.DataLoader(dataset=dataset,\n",
    "                                           batch_size=32,\n",
    "                                           shuffle=True)"
   ]
  },
  {
   "cell_type": "code",
   "execution_count": 16,
   "metadata": {},
   "outputs": [
    {
     "name": "stdout",
     "output_type": "stream",
     "text": [
      "There is 24 batches in the dataset\n",
      "For one iteration (batch), there are:\n",
      "Data:    torch.Size([32, 7])\n",
      "Labels:  torch.Size([32, 1])\n"
     ]
    }
   ],
   "source": [
    "# Display the number of batches in the train_loader and the shape of data and labels for one batch.\n",
    "print(\"There is {} batches in the dataset\".format(len(train_loader)))\n",
    "for (x,y) in train_loader:\n",
    "    print(\"For one iteration (batch), there are:\")\n",
    "    print(\"Data:    {}\".format(x.shape))\n",
    "    print(\"Labels:  {}\".format(y.shape))\n",
    "    break"
   ]
  },
  {
   "cell_type": "markdown",
   "metadata": {},
   "source": [
    "![demo](https://user-images.githubusercontent.com/30661597/60379583-246e5e80-9a68-11e9-8b7f-a4294234c201.png)"
   ]
  },
  {
   "cell_type": "code",
   "execution_count": 17,
   "metadata": {},
   "outputs": [],
   "source": [
    "# Define a neural network model class 'Model' with four fully connected layers and activation functions.\n",
    "\n",
    "# __init__: Initialize the Model with layers and activation functions.\n",
    "# - Four fully connected (linear) layers with varying input/output features.\n",
    "# - Tanh activation function for non-linearity.\n",
    "# - Sigmoid activation function for classification.\n",
    "\n",
    "# forward: Define the forward pass of the neural network.\n",
    "# - Sequentially pass the input 'x' through the fully connected layers.\n",
    "# - Apply Tanh activation after each of the first three layers.\n",
    "# - Apply Sigmoid activation after the final layer to output a probability.\n",
    "class Model(nn.Module):\n",
    "    def __init__(self, input_features):\n",
    "        super(Model, self).__init__()\n",
    "        self.fc1 = nn.Linear(input_features, 5)\n",
    "        self.fc2 = nn.Linear(5, 4)\n",
    "        self.fc3 = nn.Linear(4, 3)\n",
    "        self.fc4 = nn.Linear(3, 1)\n",
    "        self.sigmoid = nn.Sigmoid()\n",
    "        self.tanh = nn.Tanh()\n",
    "\n",
    "    def forward(self, x):\n",
    "        out = self.fc1(x)\n",
    "        out = self.tanh(out)\n",
    "        out = self.fc2(out)\n",
    "        out = self.tanh(out)\n",
    "        out = self.fc3(out)\n",
    "        out = self.tanh(out)\n",
    "        out = self.fc4(out)\n",
    "        out = self.sigmoid(out)\n",
    "        return out"
   ]
  },
  {
   "cell_type": "markdown",
   "metadata": {},
   "source": [
    "$H_{p}(q)=-\\frac{1}{N} \\sum_{i=1}^{N} y_{i} \\cdot \\log \\left(p\\left(y_{i}\\right)\\right)+\\left(1-y_{i}\\right) \\cdot \\log \\left(1-p\\left(y_{i}\\right)\\right)$\n",
    "\n",
    "\n",
    "cost = -(Y * torch.log(hypothesis) + (1 - Y) * torch.log(1 - hypothesis)).mean()"
   ]
  },
  {
   "cell_type": "code",
   "execution_count": 19,
   "metadata": {},
   "outputs": [],
   "source": [
    "# Initialize the neural network 'net' with the number of input features from 'x'.\n",
    "net = Model(x.shape[1])\n",
    "# In Binary Cross Entropy: the input and output should have the same shape.\n",
    "# size_average = True --> the losses are averaged over observations for each minibatch.\n",
    "# Note: size_average has been depreciated. reduction='mean' is the new form.\n",
    "# BCELoss is used to measure the discrepancy between predicted probabilities and actual labels, essential for effective model training.\n",
    "# Initialize the Binary Cross-Entropy (BCE) loss function with size averaging:\n",
    "criterion = torch.nn.BCELoss(reduction='mean')   \n",
    "# SGD with momentum with a learning rate of 0.1 is used.\n",
    "optimizer = torch.optim.SGD(net.parameters(), lr=0.1, momentum=0.9)"
   ]
  },
  {
   "cell_type": "markdown",
   "metadata": {},
   "source": [
    "## Training the network"
   ]
  },
  {
   "cell_type": "code",
   "execution_count": 20,
   "metadata": {},
   "outputs": [
    {
     "name": "stdout",
     "output_type": "stream",
     "text": [
      "Epoch 1/200, Loss: 0.617, Accuracy: 0.625\n",
      "Epoch 2/200, Loss: 0.445, Accuracy: 0.750\n",
      "Epoch 3/200, Loss: 0.530, Accuracy: 0.750\n",
      "Epoch 4/200, Loss: 0.458, Accuracy: 0.781\n",
      "Epoch 5/200, Loss: 0.514, Accuracy: 0.688\n",
      "Epoch 6/200, Loss: 0.482, Accuracy: 0.812\n",
      "Epoch 7/200, Loss: 0.421, Accuracy: 0.844\n",
      "Epoch 8/200, Loss: 0.385, Accuracy: 0.844\n",
      "Epoch 9/200, Loss: 0.476, Accuracy: 0.719\n",
      "Epoch 10/200, Loss: 0.453, Accuracy: 0.750\n",
      "Epoch 11/200, Loss: 0.422, Accuracy: 0.812\n",
      "Epoch 12/200, Loss: 0.453, Accuracy: 0.750\n",
      "Epoch 13/200, Loss: 0.582, Accuracy: 0.688\n",
      "Epoch 14/200, Loss: 0.423, Accuracy: 0.781\n",
      "Epoch 15/200, Loss: 0.425, Accuracy: 0.812\n",
      "Epoch 16/200, Loss: 0.369, Accuracy: 0.844\n",
      "Epoch 17/200, Loss: 0.519, Accuracy: 0.688\n",
      "Epoch 18/200, Loss: 0.426, Accuracy: 0.781\n",
      "Epoch 19/200, Loss: 0.476, Accuracy: 0.875\n",
      "Epoch 20/200, Loss: 0.350, Accuracy: 0.844\n",
      "Epoch 21/200, Loss: 0.406, Accuracy: 0.781\n",
      "Epoch 22/200, Loss: 0.286, Accuracy: 0.906\n",
      "Epoch 23/200, Loss: 0.409, Accuracy: 0.750\n",
      "Epoch 24/200, Loss: 0.426, Accuracy: 0.719\n",
      "Epoch 25/200, Loss: 0.422, Accuracy: 0.781\n",
      "Epoch 26/200, Loss: 0.437, Accuracy: 0.844\n",
      "Epoch 27/200, Loss: 0.722, Accuracy: 0.688\n",
      "Epoch 28/200, Loss: 0.662, Accuracy: 0.719\n",
      "Epoch 29/200, Loss: 0.483, Accuracy: 0.750\n",
      "Epoch 30/200, Loss: 0.376, Accuracy: 0.812\n",
      "Epoch 31/200, Loss: 0.321, Accuracy: 0.844\n",
      "Epoch 32/200, Loss: 0.506, Accuracy: 0.750\n",
      "Epoch 33/200, Loss: 0.364, Accuracy: 0.875\n",
      "Epoch 34/200, Loss: 0.499, Accuracy: 0.750\n",
      "Epoch 35/200, Loss: 0.356, Accuracy: 0.781\n",
      "Epoch 36/200, Loss: 0.485, Accuracy: 0.688\n",
      "Epoch 37/200, Loss: 0.564, Accuracy: 0.656\n",
      "Epoch 38/200, Loss: 0.457, Accuracy: 0.844\n",
      "Epoch 39/200, Loss: 0.412, Accuracy: 0.719\n",
      "Epoch 40/200, Loss: 0.327, Accuracy: 0.844\n",
      "Epoch 41/200, Loss: 0.381, Accuracy: 0.844\n",
      "Epoch 42/200, Loss: 0.421, Accuracy: 0.812\n",
      "Epoch 43/200, Loss: 0.592, Accuracy: 0.719\n",
      "Epoch 44/200, Loss: 0.422, Accuracy: 0.750\n",
      "Epoch 45/200, Loss: 0.503, Accuracy: 0.656\n",
      "Epoch 46/200, Loss: 0.421, Accuracy: 0.781\n",
      "Epoch 47/200, Loss: 0.453, Accuracy: 0.719\n",
      "Epoch 48/200, Loss: 0.426, Accuracy: 0.812\n",
      "Epoch 49/200, Loss: 0.572, Accuracy: 0.594\n",
      "Epoch 50/200, Loss: 0.495, Accuracy: 0.781\n",
      "Epoch 51/200, Loss: 0.557, Accuracy: 0.656\n",
      "Epoch 52/200, Loss: 0.484, Accuracy: 0.844\n",
      "Epoch 53/200, Loss: 0.375, Accuracy: 0.781\n",
      "Epoch 54/200, Loss: 0.461, Accuracy: 0.844\n",
      "Epoch 55/200, Loss: 0.388, Accuracy: 0.812\n",
      "Epoch 56/200, Loss: 0.457, Accuracy: 0.656\n",
      "Epoch 57/200, Loss: 0.454, Accuracy: 0.719\n",
      "Epoch 58/200, Loss: 0.387, Accuracy: 0.750\n",
      "Epoch 59/200, Loss: 0.488, Accuracy: 0.750\n",
      "Epoch 60/200, Loss: 0.376, Accuracy: 0.812\n",
      "Epoch 61/200, Loss: 0.444, Accuracy: 0.719\n",
      "Epoch 62/200, Loss: 0.270, Accuracy: 0.906\n",
      "Epoch 63/200, Loss: 0.386, Accuracy: 0.875\n",
      "Epoch 64/200, Loss: 0.451, Accuracy: 0.688\n",
      "Epoch 65/200, Loss: 0.559, Accuracy: 0.719\n",
      "Epoch 66/200, Loss: 0.467, Accuracy: 0.750\n",
      "Epoch 67/200, Loss: 0.772, Accuracy: 0.656\n",
      "Epoch 68/200, Loss: 0.696, Accuracy: 0.625\n",
      "Epoch 69/200, Loss: 0.447, Accuracy: 0.719\n",
      "Epoch 70/200, Loss: 0.335, Accuracy: 0.906\n",
      "Epoch 71/200, Loss: 0.452, Accuracy: 0.750\n",
      "Epoch 72/200, Loss: 0.384, Accuracy: 0.812\n",
      "Epoch 73/200, Loss: 0.494, Accuracy: 0.656\n",
      "Epoch 74/200, Loss: 0.454, Accuracy: 0.688\n",
      "Epoch 75/200, Loss: 0.388, Accuracy: 0.719\n",
      "Epoch 76/200, Loss: 0.370, Accuracy: 0.844\n",
      "Epoch 77/200, Loss: 0.425, Accuracy: 0.812\n",
      "Epoch 78/200, Loss: 0.495, Accuracy: 0.750\n",
      "Epoch 79/200, Loss: 0.447, Accuracy: 0.656\n",
      "Epoch 80/200, Loss: 0.317, Accuracy: 0.750\n",
      "Epoch 81/200, Loss: 0.430, Accuracy: 0.688\n",
      "Epoch 82/200, Loss: 0.340, Accuracy: 0.719\n",
      "Epoch 83/200, Loss: 0.332, Accuracy: 0.875\n",
      "Epoch 84/200, Loss: 0.403, Accuracy: 0.844\n",
      "Epoch 85/200, Loss: 0.473, Accuracy: 0.625\n",
      "Epoch 86/200, Loss: 0.366, Accuracy: 0.750\n",
      "Epoch 87/200, Loss: 0.337, Accuracy: 0.812\n",
      "Epoch 88/200, Loss: 0.643, Accuracy: 0.656\n",
      "Epoch 89/200, Loss: 0.437, Accuracy: 0.750\n",
      "Epoch 90/200, Loss: 0.461, Accuracy: 0.688\n",
      "Epoch 91/200, Loss: 0.477, Accuracy: 0.781\n",
      "Epoch 92/200, Loss: 0.479, Accuracy: 0.719\n",
      "Epoch 93/200, Loss: 0.515, Accuracy: 0.750\n",
      "Epoch 94/200, Loss: 0.461, Accuracy: 0.812\n",
      "Epoch 95/200, Loss: 0.378, Accuracy: 0.719\n",
      "Epoch 96/200, Loss: 0.351, Accuracy: 0.844\n",
      "Epoch 97/200, Loss: 0.261, Accuracy: 0.875\n",
      "Epoch 98/200, Loss: 0.490, Accuracy: 0.750\n",
      "Epoch 99/200, Loss: 0.361, Accuracy: 0.750\n",
      "Epoch 100/200, Loss: 0.515, Accuracy: 0.625\n",
      "Epoch 101/200, Loss: 0.457, Accuracy: 0.750\n",
      "Epoch 102/200, Loss: 0.311, Accuracy: 0.812\n",
      "Epoch 103/200, Loss: 0.355, Accuracy: 0.781\n",
      "Epoch 104/200, Loss: 0.339, Accuracy: 0.781\n",
      "Epoch 105/200, Loss: 0.505, Accuracy: 0.531\n",
      "Epoch 106/200, Loss: 0.511, Accuracy: 0.781\n",
      "Epoch 107/200, Loss: 0.351, Accuracy: 0.781\n",
      "Epoch 108/200, Loss: 0.527, Accuracy: 0.688\n",
      "Epoch 109/200, Loss: 0.463, Accuracy: 0.719\n",
      "Epoch 110/200, Loss: 0.465, Accuracy: 0.750\n",
      "Epoch 111/200, Loss: 0.385, Accuracy: 0.750\n",
      "Epoch 112/200, Loss: 0.340, Accuracy: 0.719\n",
      "Epoch 113/200, Loss: 0.384, Accuracy: 0.688\n",
      "Epoch 114/200, Loss: 0.555, Accuracy: 0.719\n",
      "Epoch 115/200, Loss: 0.348, Accuracy: 0.781\n",
      "Epoch 116/200, Loss: 0.469, Accuracy: 0.812\n",
      "Epoch 117/200, Loss: 0.420, Accuracy: 0.719\n",
      "Epoch 118/200, Loss: 0.518, Accuracy: 0.750\n",
      "Epoch 119/200, Loss: 0.274, Accuracy: 0.875\n",
      "Epoch 120/200, Loss: 0.403, Accuracy: 0.781\n",
      "Epoch 121/200, Loss: 0.416, Accuracy: 0.688\n",
      "Epoch 122/200, Loss: 0.544, Accuracy: 0.719\n",
      "Epoch 123/200, Loss: 0.346, Accuracy: 0.812\n",
      "Epoch 124/200, Loss: 0.383, Accuracy: 0.812\n",
      "Epoch 125/200, Loss: 0.316, Accuracy: 0.875\n",
      "Epoch 126/200, Loss: 0.477, Accuracy: 0.750\n",
      "Epoch 127/200, Loss: 0.575, Accuracy: 0.688\n",
      "Epoch 128/200, Loss: 0.450, Accuracy: 0.750\n",
      "Epoch 129/200, Loss: 0.387, Accuracy: 0.781\n",
      "Epoch 130/200, Loss: 0.374, Accuracy: 0.844\n",
      "Epoch 131/200, Loss: 0.386, Accuracy: 0.750\n",
      "Epoch 132/200, Loss: 0.498, Accuracy: 0.688\n",
      "Epoch 133/200, Loss: 0.545, Accuracy: 0.750\n",
      "Epoch 134/200, Loss: 0.438, Accuracy: 0.781\n",
      "Epoch 135/200, Loss: 0.379, Accuracy: 0.781\n",
      "Epoch 136/200, Loss: 0.417, Accuracy: 0.750\n",
      "Epoch 137/200, Loss: 0.368, Accuracy: 0.781\n",
      "Epoch 138/200, Loss: 0.255, Accuracy: 0.906\n",
      "Epoch 139/200, Loss: 0.399, Accuracy: 0.750\n",
      "Epoch 140/200, Loss: 0.368, Accuracy: 0.844\n",
      "Epoch 141/200, Loss: 0.413, Accuracy: 0.875\n",
      "Epoch 142/200, Loss: 0.384, Accuracy: 0.688\n",
      "Epoch 143/200, Loss: 0.247, Accuracy: 0.938\n",
      "Epoch 144/200, Loss: 0.343, Accuracy: 0.781\n",
      "Epoch 145/200, Loss: 0.412, Accuracy: 0.719\n",
      "Epoch 146/200, Loss: 0.338, Accuracy: 0.875\n",
      "Epoch 147/200, Loss: 0.305, Accuracy: 0.875\n",
      "Epoch 148/200, Loss: 0.512, Accuracy: 0.719\n",
      "Epoch 149/200, Loss: 0.472, Accuracy: 0.781\n",
      "Epoch 150/200, Loss: 0.417, Accuracy: 0.688\n",
      "Epoch 151/200, Loss: 0.372, Accuracy: 0.781\n",
      "Epoch 152/200, Loss: 0.668, Accuracy: 0.625\n",
      "Epoch 153/200, Loss: 0.502, Accuracy: 0.688\n",
      "Epoch 154/200, Loss: 0.269, Accuracy: 0.844\n",
      "Epoch 155/200, Loss: 0.356, Accuracy: 0.844\n",
      "Epoch 156/200, Loss: 0.468, Accuracy: 0.750\n",
      "Epoch 157/200, Loss: 0.453, Accuracy: 0.750\n",
      "Epoch 158/200, Loss: 0.352, Accuracy: 0.844\n",
      "Epoch 159/200, Loss: 0.427, Accuracy: 0.594\n",
      "Epoch 160/200, Loss: 0.422, Accuracy: 0.750\n",
      "Epoch 161/200, Loss: 0.286, Accuracy: 0.844\n",
      "Epoch 162/200, Loss: 0.437, Accuracy: 0.750\n",
      "Epoch 163/200, Loss: 0.445, Accuracy: 0.781\n",
      "Epoch 164/200, Loss: 0.321, Accuracy: 0.844\n",
      "Epoch 165/200, Loss: 0.340, Accuracy: 0.844\n",
      "Epoch 166/200, Loss: 0.393, Accuracy: 0.781\n",
      "Epoch 167/200, Loss: 0.235, Accuracy: 0.938\n",
      "Epoch 168/200, Loss: 0.287, Accuracy: 0.906\n",
      "Epoch 169/200, Loss: 0.501, Accuracy: 0.750\n",
      "Epoch 170/200, Loss: 0.311, Accuracy: 0.781\n",
      "Epoch 171/200, Loss: 0.320, Accuracy: 0.906\n",
      "Epoch 172/200, Loss: 0.517, Accuracy: 0.719\n",
      "Epoch 173/200, Loss: 0.371, Accuracy: 0.781\n",
      "Epoch 174/200, Loss: 0.360, Accuracy: 0.781\n",
      "Epoch 175/200, Loss: 0.342, Accuracy: 0.781\n",
      "Epoch 176/200, Loss: 0.318, Accuracy: 0.844\n",
      "Epoch 177/200, Loss: 0.617, Accuracy: 0.719\n",
      "Epoch 178/200, Loss: 0.603, Accuracy: 0.688\n",
      "Epoch 179/200, Loss: 0.602, Accuracy: 0.562\n",
      "Epoch 180/200, Loss: 0.341, Accuracy: 0.875\n",
      "Epoch 181/200, Loss: 0.463, Accuracy: 0.719\n",
      "Epoch 182/200, Loss: 0.491, Accuracy: 0.812\n",
      "Epoch 183/200, Loss: 0.342, Accuracy: 0.812\n",
      "Epoch 184/200, Loss: 0.637, Accuracy: 0.625\n",
      "Epoch 185/200, Loss: 0.670, Accuracy: 0.688\n",
      "Epoch 186/200, Loss: 0.425, Accuracy: 0.719\n",
      "Epoch 187/200, Loss: 0.330, Accuracy: 0.750\n",
      "Epoch 188/200, Loss: 0.477, Accuracy: 0.719\n",
      "Epoch 189/200, Loss: 0.535, Accuracy: 0.719\n",
      "Epoch 190/200, Loss: 0.352, Accuracy: 0.844\n",
      "Epoch 191/200, Loss: 0.341, Accuracy: 0.812\n"
     ]
    },
    {
     "name": "stdout",
     "output_type": "stream",
     "text": [
      "Epoch 192/200, Loss: 0.371, Accuracy: 0.688\n",
      "Epoch 193/200, Loss: 0.562, Accuracy: 0.594\n",
      "Epoch 194/200, Loss: 0.351, Accuracy: 0.844\n",
      "Epoch 195/200, Loss: 0.460, Accuracy: 0.750\n",
      "Epoch 196/200, Loss: 0.469, Accuracy: 0.781\n",
      "Epoch 197/200, Loss: 0.408, Accuracy: 0.781\n",
      "Epoch 198/200, Loss: 0.219, Accuracy: 0.906\n",
      "Epoch 199/200, Loss: 0.464, Accuracy: 0.781\n",
      "Epoch 200/200, Loss: 0.471, Accuracy: 0.719\n"
     ]
    }
   ],
   "source": [
    "num_epochs = 200 # the network will be trained for 200 epochs\n",
    "\n",
    "for epoch in range(num_epochs): # Loop over each epoch.\n",
    "    for inputs,labels in train_loader:\n",
    "        # Convert inputs and labels to float type for compatibility with model.\n",
    "        inputs = inputs.float()\n",
    "        labels = labels.float()\n",
    "        # Feed Forward: Pass the data through the network to get output.\n",
    "        output = net(inputs)\n",
    "        # Loss Calculation: Compute the loss between the network's output and actual labels.\n",
    "        loss = criterion(output, labels)\n",
    "        # Clear the gradient buffer to prevent accumulation of gradients from previous iterations.\n",
    "        optimizer.zero_grad()\n",
    "        # Backpropagation: Compute the gradient of the loss with respect to the network's weights.\n",
    "        loss.backward()\n",
    "        # Weight Update: Adjust the weights of the network based on the calculated gradients.\n",
    "        # <<Weight Update: w <-- w - lr * gradient>>\n",
    "        optimizer.step()\n",
    "        \n",
    "\n",
    "    # Since the sigmoid activation function is used for classification, thresholding needs to be performed.\n",
    "    # Convert the output probabilities to binary values (0 or 1) based on a threshold of 0.5:\n",
    "    output = (output>0.5).float()\n",
    "    # Accuracy: (output == labels).float().sum() / output.shape[0]\n",
    "    accuracy = (output == labels).float().mean()\n",
    "    # Statistics for tracking network training process: \n",
    "    # Print the current epoch number, total epochs, loss, and accuracy for each epoch during training.\n",
    "    print(\"Epoch {}/{}, Loss: {:.3f}, Accuracy: {:.3f}\".format(epoch+1,num_epochs, loss, accuracy))"
   ]
  }
 ],
 "metadata": {
  "kernelspec": {
   "display_name": "Python 3 (ipykernel)",
   "language": "python",
   "name": "python3"
  },
  "language_info": {
   "codemirror_mode": {
    "name": "ipython",
    "version": 3
   },
   "file_extension": ".py",
   "mimetype": "text/x-python",
   "name": "python",
   "nbconvert_exporter": "python",
   "pygments_lexer": "ipython3",
   "version": "3.10.9"
  }
 },
 "nbformat": 4,
 "nbformat_minor": 2
}
