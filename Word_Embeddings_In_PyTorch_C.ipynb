{
 "cells": [
  {
   "cell_type": "markdown",
   "metadata": {},
   "source": [
    "## Word Embeddings"
   ]
  },
  {
   "cell_type": "code",
   "execution_count": 1,
   "metadata": {},
   "outputs": [],
   "source": [
    "import torch\n",
    "import torch.nn as nn\n",
    "import torch.nn.functional as F\n",
    "import torch.optim as optim"
   ]
  },
  {
   "cell_type": "code",
   "execution_count": 2,
   "metadata": {},
   "outputs": [
    {
     "name": "stdout",
     "output_type": "stream",
     "text": [
      "tensor([1])\n"
     ]
    }
   ],
   "source": [
    "# Dictionary mapping words to their indices\n",
    "word_to_idx = {\"I\": 0, \"love\": 1, \"eating\": 2, \"and\": 3, \"sleeping\": 4}\n",
    "\n",
    "# Create an embedding layer with 5 words in the vocabulary and an embedding size of 7\n",
    "embeddings = nn.Embedding(5, 7)\n",
    "\n",
    "# Get the index of the word 'love' from the dictionary\n",
    "word_index = torch.tensor([word_to_idx[\"love\"]])\n",
    "\n",
    "# Print the index of the word 'love'\n",
    "print(word_index)"
   ]
  },
  {
   "cell_type": "code",
   "execution_count": 3,
   "metadata": {},
   "outputs": [
    {
     "name": "stdout",
     "output_type": "stream",
     "text": [
      "tensor([[ 0.4332, -0.5624, -1.1483, -1.7561,  1.5084,  0.5255, -0.3182]],\n",
      "       grad_fn=<EmbeddingBackward0>)\n",
      "torch.Size([1, 7])\n"
     ]
    }
   ],
   "source": [
    "# Retrieve the embedding vector for the word 'love'\n",
    "love = embeddings(word_index)\n",
    "\n",
    "# Print the embedding vector\n",
    "print(love)\n",
    "\n",
    "# Print the shape of the embedding vector\n",
    "print(love.shape)"
   ]
  },
  {
   "cell_type": "code",
   "execution_count": 4,
   "metadata": {},
   "outputs": [
    {
     "name": "stdout",
     "output_type": "stream",
     "text": [
      "tensor([0, 1, 2, 3, 4])\n",
      "tensor([[-1.1862, -0.2399, -0.2611, -0.5782, -0.1403, -0.3588,  0.0552],\n",
      "        [ 0.4332, -0.5624, -1.1483, -1.7561,  1.5084,  0.5255, -0.3182],\n",
      "        [-0.8858, -0.3912,  1.3797,  0.1791, -0.7286, -1.1975, -1.0667],\n",
      "        [-0.5861, -2.1039,  1.2275, -0.0865, -0.6502,  0.1334, -0.4111],\n",
      "        [ 1.4001, -0.1799, -0.2872,  1.1480, -0.8147,  0.5520, -0.9192]],\n",
      "       grad_fn=<EmbeddingBackward0>)\n",
      "torch.Size([5, 7])\n"
     ]
    }
   ],
   "source": [
    "# Create a tensor containing indices for all words in the vocabulary\n",
    "all_ind = torch.tensor([w for w in range(5)], dtype=torch.long)\n",
    "\n",
    "# Retrieve the embedding vectors for all words using the embedding layer\n",
    "all_words = embeddings(all_ind)\n",
    "\n",
    "# Print the indices of all words\n",
    "print(all_ind)\n",
    "\n",
    "# Print the embedding vectors for all words\n",
    "print(all_words)\n",
    "\n",
    "# Print the shape of the tensor containing all word embeddings\n",
    "print(all_words.shape)"
   ]
  },
  {
   "cell_type": "markdown",
   "metadata": {},
   "source": [
    "## Exercise: N-Gram Skip Model\n",
    "### Given a sequence of words, we want to predict the ith word of the sequence: P(w(i)|w(i-1), w(i-2), .....)\n",
    "#### Source: https://pytorch.org/tutorials/beginner/nlp/word_embeddings_tutorial.html#an-example-n-gram-language-modeling  \n"
   ]
  }
 ],
 "metadata": {
  "kernelspec": {
   "display_name": "Python 3 (ipykernel)",
   "language": "python",
   "name": "python3"
  },
  "language_info": {
   "codemirror_mode": {
    "name": "ipython",
    "version": 3
   },
   "file_extension": ".py",
   "mimetype": "text/x-python",
   "name": "python",
   "nbconvert_exporter": "python",
   "pygments_lexer": "ipython3",
   "version": "3.10.9"
  }
 },
 "nbformat": 4,
 "nbformat_minor": 2
}
