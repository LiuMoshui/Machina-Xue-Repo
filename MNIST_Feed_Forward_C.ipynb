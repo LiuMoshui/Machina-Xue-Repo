{
 "cells": [
  {
   "cell_type": "code",
   "execution_count": 1,
   "metadata": {},
   "outputs": [],
   "source": [
    "import torch\n",
    "import torch.nn as nn\n",
    "import torchvision.datasets as datasets \n",
    "import torchvision.transforms as transforms"
   ]
  },
  {
   "cell_type": "code",
   "execution_count": 2,
   "metadata": {},
   "outputs": [],
   "source": [
    "input_size = 784        # Number of input neurons (image pixels).\n",
    "hidden_size = 400       # Number of hidden neurons.\n",
    "out_size = 10           # Number of classes (0-9). \n",
    "epochs = 10             # How many times we pass our entire dataset into our network.\n",
    "batch_size = 100        # Input size of the data during one iteration.\n",
    "learning_rate = 0.001   # How fast we are learning."
   ]
  },
  {
   "cell_type": "code",
   "execution_count": 3,
   "metadata": {},
   "outputs": [
    {
     "name": "stdout",
     "output_type": "stream",
     "text": [
      "Downloading http://yann.lecun.com/exdb/mnist/train-images-idx3-ubyte.gz\n",
      "Downloading http://yann.lecun.com/exdb/mnist/train-images-idx3-ubyte.gz to ./data\\MNIST\\raw\\train-images-idx3-ubyte.gz\n"
     ]
    },
    {
     "name": "stderr",
     "output_type": "stream",
     "text": [
      "100%|███████████████████████████████████████████████████████████████████| 9912422/9912422 [00:01<00:00, 8910934.46it/s]\n"
     ]
    },
    {
     "name": "stdout",
     "output_type": "stream",
     "text": [
      "Extracting ./data\\MNIST\\raw\\train-images-idx3-ubyte.gz to ./data\\MNIST\\raw\n",
      "\n",
      "Downloading http://yann.lecun.com/exdb/mnist/train-labels-idx1-ubyte.gz\n",
      "Downloading http://yann.lecun.com/exdb/mnist/train-labels-idx1-ubyte.gz to ./data\\MNIST\\raw\\train-labels-idx1-ubyte.gz\n"
     ]
    },
    {
     "name": "stderr",
     "output_type": "stream",
     "text": [
      "100%|██████████████████████████████████████████████████████████████████████| 28881/28881 [00:00<00:00, 28773323.95it/s]"
     ]
    },
    {
     "name": "stdout",
     "output_type": "stream",
     "text": [
      "Extracting ./data\\MNIST\\raw\\train-labels-idx1-ubyte.gz to ./data\\MNIST\\raw\n",
      "\n",
      "Downloading http://yann.lecun.com/exdb/mnist/t10k-images-idx3-ubyte.gz\n",
      "Downloading http://yann.lecun.com/exdb/mnist/t10k-images-idx3-ubyte.gz to ./data\\MNIST\\raw\\t10k-images-idx3-ubyte.gz\n"
     ]
    },
    {
     "name": "stderr",
     "output_type": "stream",
     "text": [
      "\n",
      "100%|███████████████████████████████████████████████████████████████████| 1648877/1648877 [00:00<00:00, 7410402.37it/s]\n"
     ]
    },
    {
     "name": "stdout",
     "output_type": "stream",
     "text": [
      "Extracting ./data\\MNIST\\raw\\t10k-images-idx3-ubyte.gz to ./data\\MNIST\\raw\n",
      "\n",
      "Downloading http://yann.lecun.com/exdb/mnist/t10k-labels-idx1-ubyte.gz\n",
      "Downloading http://yann.lecun.com/exdb/mnist/t10k-labels-idx1-ubyte.gz to ./data\\MNIST\\raw\\t10k-labels-idx1-ubyte.gz\n"
     ]
    },
    {
     "name": "stderr",
     "output_type": "stream",
     "text": [
      "100%|█████████████████████████████████████████████████████████████████████████| 4542/4542 [00:00<00:00, 4598244.94it/s]\n"
     ]
    },
    {
     "name": "stdout",
     "output_type": "stream",
     "text": [
      "Extracting ./data\\MNIST\\raw\\t10k-labels-idx1-ubyte.gz to ./data\\MNIST\\raw\n",
      "\n"
     ]
    }
   ],
   "source": [
    "# Load and transform the MNIST dataset for training and testing:\n",
    "\n",
    "# Load the MNIST training dataset:\n",
    "# 'root' specifies the directory to store the dataset.\n",
    "# 'train=True' indicates that the training dataset is being loaded.\n",
    "# 'transform=transforms.ToTensor()' converts the images to PyTorch tensors.\n",
    "# 'download=True' downloads the dataset if it's not already present in the specified directory.\n",
    "train_dataset = datasets.MNIST(root='./data',\n",
    "                           train=True,\n",
    "                           transform=transforms.ToTensor(),\n",
    "                           download=True)\n",
    "\n",
    "# Load the MNIST testing dataset:\n",
    "# Similar parameters as the training dataset, but 'train=False' to load the test dataset.\n",
    "test_dataset = datasets.MNIST(root='./data',\n",
    "                           train=False,\n",
    "                           transform=transforms.ToTensor())"
   ]
  },
  {
   "cell_type": "code",
   "execution_count": 4,
   "metadata": {},
   "outputs": [],
   "source": [
    "# Create DataLoader instances for the training and testing datasets:\n",
    "\n",
    "# DataLoader for the training dataset:\n",
    "# 'dataset=train_dataset' specifies the dataset to load.\n",
    "# 'batch_size=batch_size' sets the number of samples per batch.\n",
    "# 'shuffle=True' randomizes the order of the data for each epoch, which helps in reducing overfitting.\n",
    "train_loader = torch.utils.data.DataLoader(dataset=train_dataset,\n",
    "                                          batch_size=batch_size,\n",
    "                                          shuffle=True)\n",
    "\n",
    "# DataLoader for the testing dataset:\n",
    "# Similar to the training loader, but 'shuffle=False' as shuffling is not needed for evaluation.\n",
    "test_loader = torch.utils.data.DataLoader(dataset=test_dataset,\n",
    "                                          batch_size=batch_size,\n",
    "                                          shuffle=False)"
   ]
  },
  {
   "cell_type": "markdown",
   "metadata": {},
   "source": [
    "![nn mnist](https://user-images.githubusercontent.com/30661597/61593615-5eb8bf00-ac14-11e9-8087-f880971b3543.png)\n"
   ]
  },
  {
   "cell_type": "code",
   "execution_count": 5,
   "metadata": {},
   "outputs": [],
   "source": [
    "# Define the neural network architecture for MNIST classification:\n",
    "\n",
    "class Net(nn.Module):\n",
    "    def __init__(self, input_size, hidden_size, out_size):\n",
    "        super(Net, self).__init__() \n",
    "        # First fully connected layer:\n",
    "        self.fc1 = nn.Linear(input_size, hidden_size) # Maps from input size to hidden size.\n",
    "        \n",
    "        # Second fully connected layer:\n",
    "        self.fc2 = nn.Linear(hidden_size, hidden_size) # Maps from hidden size to hidden size.\n",
    "        \n",
    "        # Third fully connected layer:\n",
    "        self.fc3 = nn.Linear(hidden_size, out_size) # Maps from hidden size to output size.\n",
    "\n",
    "        self.relu = nn.ReLU()\n",
    "        \n",
    "        self.init_weights()\n",
    "        \n",
    "    def init_weights(self):\n",
    "        # Initialize weights using Kaiming normalization:\n",
    "        nn.init.kaiming_normal_(self.fc1.weight)\n",
    "        nn.init.kaiming_normal_(self.fc2.weight)\n",
    "\n",
    "    def forward(self, x): \n",
    "        # Forward pass through the network:\n",
    "        out = self.fc1(x)\n",
    "        out = self.relu(out)\n",
    "        out = self.fc2(out)\n",
    "        out = self.relu(out)\n",
    "        out = self.fc3(out)\n",
    "        return out"
   ]
  },
  {
   "cell_type": "code",
   "execution_count": 6,
   "metadata": {},
   "outputs": [],
   "source": [
    "# Instantiate the neural network and set up the loss function and optimizer:\n",
    "\n",
    "# Create an instance of the Net class:\n",
    "net = Net(input_size, hidden_size, out_size)\n",
    "\n",
    "# Check if CUDA (GPU support) is available and move the network to GPU if it is:\n",
    "CUDA = torch.cuda.is_available()\n",
    "if CUDA:\n",
    "    net = net.cuda()\n",
    "    \n",
    "# Define the loss function. CrossEntropyLoss combines Softmax with the negative log likelihood loss:\n",
    "# Therefore, no need to specify Softmax as well.\n",
    "criterion = nn.CrossEntropyLoss()\n",
    "\n",
    "# Define the optimizer. Here, Adam optimizer is used with the specified learning rate:\n",
    "optimizer = torch.optim.Adam(net.parameters(), lr=learning_rate)"
   ]
  },
  {
   "cell_type": "code",
   "execution_count": 7,
   "metadata": {},
   "outputs": [
    {
     "name": "stdout",
     "output_type": "stream",
     "text": [
      "Epoch [1/10], Training Loss: 0.236, Training Accuracy: 93.037%\n",
      "Epoch [2/10], Training Loss: 0.086, Training Accuracy: 97.350%\n",
      "Epoch [3/10], Training Loss: 0.054, Training Accuracy: 98.293%\n",
      "Epoch [4/10], Training Loss: 0.039, Training Accuracy: 98.730%\n",
      "Epoch [5/10], Training Loss: 0.029, Training Accuracy: 99.042%\n",
      "Epoch [6/10], Training Loss: 0.021, Training Accuracy: 99.283%\n",
      "Epoch [7/10], Training Loss: 0.021, Training Accuracy: 99.292%\n",
      "Epoch [8/10], Training Loss: 0.016, Training Accuracy: 99.463%\n",
      "Epoch [9/10], Training Loss: 0.012, Training Accuracy: 99.598%\n",
      "Epoch [10/10], Training Loss: 0.017, Training Accuracy: 99.425%\n",
      "DONE TRAINING!\n"
     ]
    }
   ],
   "source": [
    "# Training loop for the neural network:\n",
    "\n",
    "for epoch in range(epochs):\n",
    "    correct_train = 0  # Counter for correct predictions.\n",
    "    running_loss = 0 # Accumulator for the loss.\n",
    "    \n",
    "    # Iterate over batches of the training dataset:\n",
    "    for i, (images, labels) in enumerate(train_loader): \n",
    "        \n",
    "        # Flatten the images from a 4D tensor to a 2D tensor:\n",
    "        # Flatten the image from size (batch,1,28,28) --> (100,1,28,28) where 1 represents the number of channels (grayscale-->1),\n",
    "        # to size (100,784) and wrap it in a variable\n",
    "        images = images.view(-1, 28*28)  # Flatten each image in the batch.\n",
    "        \n",
    "        # Move images and labels to GPU if CUDA is available:\n",
    "        if CUDA:\n",
    "            images = images.cuda()\n",
    "            labels = labels.cuda()\n",
    "            \n",
    "        outputs = net(images) # Forward pass: Compute the predicted outputs by passing images to the model.       \n",
    "        _, predicted = torch.max(outputs.data, 1)  # Get the predictions from the maximum value.                                          \n",
    "        correct_train += (predicted == labels).sum() # Count how many predictions match the labels.\n",
    "        \n",
    "        loss = criterion(outputs, labels)                 # Compute the loss between predicted and actual labels.\n",
    "        running_loss += loss.item()                       # Accumulate the loss.\n",
    "        optimizer.zero_grad()                             # Zero the gradients before backward pass.\n",
    "        loss.backward()                                   # Backpropagation\n",
    "        optimizer.step()                                  # Update the weights\n",
    "        \n",
    "    print('Epoch [{}/{}], Training Loss: {:.3f}, Training Accuracy: {:.3f}%'.format\n",
    "          (epoch+1, epochs, running_loss/len(train_loader), (100*correct_train.double()/len(train_dataset))))\n",
    "print(\"DONE TRAINING!\")"
   ]
  },
  {
   "cell_type": "code",
   "execution_count": 8,
   "metadata": {},
   "outputs": [
    {
     "name": "stdout",
     "output_type": "stream",
     "text": [
      "Accuracy of the network on the 10000 test images: 97.83 %\n"
     ]
    }
   ],
   "source": [
    "# Evaluate the neural network's performance on the test dataset:\n",
    "\n",
    "with torch.no_grad():\n",
    "    correct = 0 # Counter for correct predictions.\n",
    "    \n",
    "    # Iterate over batches in the test dataset:\n",
    "    for images, labels in test_loader:\n",
    "        if CUDA:\n",
    "            # Move images and labels to GPU if CUDA is available:\n",
    "            images = images.cuda()\n",
    "            labels = labels.cuda()\n",
    "        \n",
    "        # Flatten the images to match the input requirements of the network:\n",
    "        images = images.view(-1, 28*28)\n",
    "        \n",
    "        # Forward pass to get the output from the network:\n",
    "        outputs = net(images)\n",
    "        \n",
    "        # Get the predicted classes from the maximum value of the outputs:\n",
    "        _, predicted = torch.max(outputs.data, 1)\n",
    "        \n",
    "        # Count how many predictions match the actual labels:\n",
    "        correct += (predicted == labels).sum().item()\n",
    "\n",
    "    print('Accuracy of the network on the 10000 test images: {} %'.format(100 * correct / len(test_dataset)))"
   ]
  }
 ],
 "metadata": {
  "kernelspec": {
   "display_name": "Python 3 (ipykernel)",
   "language": "python",
   "name": "python3"
  },
  "language_info": {
   "codemirror_mode": {
    "name": "ipython",
    "version": 3
   },
   "file_extension": ".py",
   "mimetype": "text/x-python",
   "name": "python",
   "nbconvert_exporter": "python",
   "pygments_lexer": "ipython3",
   "version": "3.10.9"
  }
 },
 "nbformat": 4,
 "nbformat_minor": 2
}
