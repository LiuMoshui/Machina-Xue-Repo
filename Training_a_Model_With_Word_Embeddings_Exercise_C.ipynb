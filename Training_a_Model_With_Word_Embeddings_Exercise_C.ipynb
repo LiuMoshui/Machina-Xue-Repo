{
 "cells": [
  {
   "cell_type": "code",
   "execution_count": 1,
   "id": "8d4917ec",
   "metadata": {},
   "outputs": [
    {
     "name": "stdout",
     "output_type": "stream",
     "text": [
      "2.13.0\n"
     ]
    }
   ],
   "source": [
    "#import tensorflow as tf\n",
    "#print(tf.__version__)"
   ]
  },
  {
   "cell_type": "code",
   "execution_count": 1,
   "id": "c24c8121",
   "metadata": {},
   "outputs": [],
   "source": [
    "import nltk\n",
    "#nltk.download('punkt')"
   ]
  },
  {
   "cell_type": "code",
   "execution_count": 2,
   "id": "7300cb82",
   "metadata": {},
   "outputs": [],
   "source": [
    "import nltk\n",
    "import pandas as pd\n",
    "import gensim\n",
    "from gensim.models import Word2Vec, KeyedVectors"
   ]
  },
  {
   "cell_type": "markdown",
   "id": "fbe95ba2",
   "metadata": {},
   "source": [
    "# Data Preprocessing"
   ]
  },
  {
   "cell_type": "code",
   "execution_count": 3,
   "id": "1f23d0e3",
   "metadata": {},
   "outputs": [],
   "source": [
    "# google pretrained model\n",
    "\n",
    "# https://www.kaggle.com/rootuser/worldnews-on-reddit"
   ]
  },
  {
   "cell_type": "code",
   "execution_count": 4,
   "id": "8e0b798d",
   "metadata": {},
   "outputs": [],
   "source": [
    "# create a directory as kaggle\n",
    "#import os\n",
    "#os.makedirs(os.path.expanduser('~/.kaggle'), exist_ok=True)"
   ]
  },
  {
   "cell_type": "code",
   "execution_count": 5,
   "id": "0b228f0a",
   "metadata": {},
   "outputs": [],
   "source": [
    "# copy API key to kaggle directory\n",
    "#!copy C:\\Users\\Chang.LAPTOP-KLP71L1N\\Downloads\\kaggle.json C:\\Users\\Chang.LAPTOP-KLP71L1N\\.kaggle"
   ]
  },
  {
   "cell_type": "code",
   "execution_count": 6,
   "id": "11c4070d",
   "metadata": {
    "scrolled": true
   },
   "outputs": [],
   "source": [
    "# import the dataset\n",
    "#! kaggle datasets download -d rootuser/worldnews-on-reddit"
   ]
  },
  {
   "cell_type": "code",
   "execution_count": 7,
   "id": "c9456f63",
   "metadata": {},
   "outputs": [],
   "source": [
    "# unzip the dataset\n",
    "#!bsdtar -xf \"C:\\Users\\Chang.LAPTOP-KLP71L1N\\Documents\\AIE NLP Practical Course\\Word Embeddings\\worldnews-on-reddit.zip\""
   ]
  },
  {
   "cell_type": "code",
   "execution_count": 8,
   "id": "de08ea32",
   "metadata": {
    "scrolled": true
   },
   "outputs": [],
   "source": [
    "df = pd.read_csv(r'C:\\Users\\Chang.LAPTOP-KLP71L1N\\Documents\\AIE NLP Practical Course\\Word Embeddings\\reddit_worldnews_start_to_2016-11-22.csv')"
   ]
  },
  {
   "cell_type": "code",
   "execution_count": 9,
   "id": "bb133711",
   "metadata": {},
   "outputs": [
    {
     "data": {
      "text/html": [
       "<div>\n",
       "<style scoped>\n",
       "    .dataframe tbody tr th:only-of-type {\n",
       "        vertical-align: middle;\n",
       "    }\n",
       "\n",
       "    .dataframe tbody tr th {\n",
       "        vertical-align: top;\n",
       "    }\n",
       "\n",
       "    .dataframe thead th {\n",
       "        text-align: right;\n",
       "    }\n",
       "</style>\n",
       "<table border=\"1\" class=\"dataframe\">\n",
       "  <thead>\n",
       "    <tr style=\"text-align: right;\">\n",
       "      <th></th>\n",
       "      <th>time_created</th>\n",
       "      <th>date_created</th>\n",
       "      <th>up_votes</th>\n",
       "      <th>down_votes</th>\n",
       "      <th>title</th>\n",
       "      <th>over_18</th>\n",
       "      <th>author</th>\n",
       "      <th>subreddit</th>\n",
       "    </tr>\n",
       "  </thead>\n",
       "  <tbody>\n",
       "    <tr>\n",
       "      <th>0</th>\n",
       "      <td>1201232046</td>\n",
       "      <td>2008-01-25</td>\n",
       "      <td>3</td>\n",
       "      <td>0</td>\n",
       "      <td>Scores killed in Pakistan clashes</td>\n",
       "      <td>False</td>\n",
       "      <td>polar</td>\n",
       "      <td>worldnews</td>\n",
       "    </tr>\n",
       "    <tr>\n",
       "      <th>1</th>\n",
       "      <td>1201232075</td>\n",
       "      <td>2008-01-25</td>\n",
       "      <td>2</td>\n",
       "      <td>0</td>\n",
       "      <td>Japan resumes refuelling mission</td>\n",
       "      <td>False</td>\n",
       "      <td>polar</td>\n",
       "      <td>worldnews</td>\n",
       "    </tr>\n",
       "    <tr>\n",
       "      <th>2</th>\n",
       "      <td>1201232523</td>\n",
       "      <td>2008-01-25</td>\n",
       "      <td>3</td>\n",
       "      <td>0</td>\n",
       "      <td>US presses Egypt on Gaza border</td>\n",
       "      <td>False</td>\n",
       "      <td>polar</td>\n",
       "      <td>worldnews</td>\n",
       "    </tr>\n",
       "    <tr>\n",
       "      <th>3</th>\n",
       "      <td>1201233290</td>\n",
       "      <td>2008-01-25</td>\n",
       "      <td>1</td>\n",
       "      <td>0</td>\n",
       "      <td>Jump-start economy: Give health care to all</td>\n",
       "      <td>False</td>\n",
       "      <td>fadi420</td>\n",
       "      <td>worldnews</td>\n",
       "    </tr>\n",
       "    <tr>\n",
       "      <th>4</th>\n",
       "      <td>1201274720</td>\n",
       "      <td>2008-01-25</td>\n",
       "      <td>4</td>\n",
       "      <td>0</td>\n",
       "      <td>Council of Europe bashes EU&amp;UN terror blacklist</td>\n",
       "      <td>False</td>\n",
       "      <td>mhermans</td>\n",
       "      <td>worldnews</td>\n",
       "    </tr>\n",
       "  </tbody>\n",
       "</table>\n",
       "</div>"
      ],
      "text/plain": [
       "   time_created date_created  up_votes  down_votes  \\\n",
       "0    1201232046   2008-01-25         3           0   \n",
       "1    1201232075   2008-01-25         2           0   \n",
       "2    1201232523   2008-01-25         3           0   \n",
       "3    1201233290   2008-01-25         1           0   \n",
       "4    1201274720   2008-01-25         4           0   \n",
       "\n",
       "                                             title  over_18    author  \\\n",
       "0                Scores killed in Pakistan clashes    False     polar   \n",
       "1                 Japan resumes refuelling mission    False     polar   \n",
       "2                  US presses Egypt on Gaza border    False     polar   \n",
       "3     Jump-start economy: Give health care to all     False   fadi420   \n",
       "4  Council of Europe bashes EU&UN terror blacklist    False  mhermans   \n",
       "\n",
       "   subreddit  \n",
       "0  worldnews  \n",
       "1  worldnews  \n",
       "2  worldnews  \n",
       "3  worldnews  \n",
       "4  worldnews  "
      ]
     },
     "execution_count": 9,
     "metadata": {},
     "output_type": "execute_result"
    }
   ],
   "source": [
    "df.head()"
   ]
  },
  {
   "cell_type": "code",
   "execution_count": 10,
   "id": "2c9b5cb1",
   "metadata": {},
   "outputs": [
    {
     "data": {
      "text/plain": [
       "(509236, 8)"
      ]
     },
     "execution_count": 10,
     "metadata": {},
     "output_type": "execute_result"
    }
   ],
   "source": [
    "df.shape"
   ]
  },
  {
   "cell_type": "code",
   "execution_count": 11,
   "id": "b6008d00",
   "metadata": {},
   "outputs": [],
   "source": [
    "# take title column\n",
    "news_titles = df['title'].values"
   ]
  },
  {
   "cell_type": "code",
   "execution_count": 15,
   "id": "d54ebad2",
   "metadata": {},
   "outputs": [
    {
     "data": {
      "text/plain": [
       "array(['Scores killed in Pakistan clashes',\n",
       "       'Japan resumes refuelling mission',\n",
       "       'US presses Egypt on Gaza border',\n",
       "       'Jump-start economy: Give health care to all ',\n",
       "       'Council of Europe bashes EU&UN terror blacklist'], dtype=object)"
      ]
     },
     "execution_count": 15,
     "metadata": {},
     "output_type": "execute_result"
    }
   ],
   "source": [
    "# Display the first five elements of the list 'news_titles'.\n",
    "news_titles[:5]"
   ]
  },
  {
   "cell_type": "code",
   "execution_count": 16,
   "id": "88912509",
   "metadata": {},
   "outputs": [],
   "source": [
    "# Tokenize each title in 'news_titles' into words using NLTK's word_tokenize function, storing the result in 'new_vec'.\n",
    "new_vec = [nltk.word_tokenize(title) for title in news_titles]"
   ]
  },
  {
   "cell_type": "code",
   "execution_count": 18,
   "id": "b1f5aa61",
   "metadata": {},
   "outputs": [
    {
     "data": {
      "text/plain": [
       "['Scores', 'killed', 'in', 'Pakistan', 'clashes']"
      ]
     },
     "execution_count": 18,
     "metadata": {},
     "output_type": "execute_result"
    }
   ],
   "source": [
    "# Display the tokenized version of the first title in the list 'new_vec'.\n",
    "new_vec[0]"
   ]
  },
  {
   "cell_type": "markdown",
   "id": "d5ca32a5",
   "metadata": {},
   "source": [
    "# Build the model"
   ]
  },
  {
   "cell_type": "code",
   "execution_count": 19,
   "id": "707bf028",
   "metadata": {},
   "outputs": [],
   "source": [
    "# Initialize a Word2Vec model with the tokenized titles, setting a minimum word count of 1 and vector size of 100.\n",
    "model = Word2Vec(new_vec, min_count=1, vector_size=100)\n",
    "# vector size = (hyperparameter to tune. A common value used is 100)"
   ]
  },
  {
   "cell_type": "markdown",
   "id": "b2c2d6a0",
   "metadata": {},
   "source": [
    "# Predict the output"
   ]
  },
  {
   "cell_type": "code",
   "execution_count": 20,
   "id": "c7cb5781",
   "metadata": {
    "scrolled": true
   },
   "outputs": [
    {
     "data": {
      "text/plain": [
       "[('woman', 0.8993169069290161),\n",
       " ('boy', 0.833186686038971),\n",
       " ('teenager', 0.8328151106834412),\n",
       " ('girl', 0.8156085014343262),\n",
       " ('couple', 0.8002040386199951),\n",
       " ('doctor', 0.7582666873931885),\n",
       " ('mother', 0.749268651008606),\n",
       " ('teen', 0.7478914260864258),\n",
       " ('teacher', 0.7283351421356201),\n",
       " ('policeman', 0.7213113903999329)]"
      ]
     },
     "execution_count": 20,
     "metadata": {},
     "output_type": "execute_result"
    }
   ],
   "source": [
    "# find 10 closest words in the vector space that we have created\n",
    "model.wv.most_similar('man')"
   ]
  },
  {
   "cell_type": "code",
   "execution_count": 21,
   "id": "2f77d84f",
   "metadata": {},
   "outputs": [
    {
     "data": {
      "text/plain": [
       "array([ 1.8314735 , -0.49974632, -0.8901131 ,  0.6989546 , -1.1361383 ,\n",
       "       -0.1377332 , -2.334193  , -0.68250215,  0.07013252, -0.3241387 ,\n",
       "       -1.5362527 , -4.5425286 , -0.741067  ,  2.5312347 , -0.20408173,\n",
       "        1.0858072 , -1.2251433 , -0.14749388, -1.4453882 ,  1.8940079 ,\n",
       "       -0.80197084,  1.3156986 , -1.7985468 , -0.57053155,  0.9943147 ,\n",
       "       -0.7286069 ,  2.1432488 ,  1.210591  , -0.05509356,  0.6697435 ,\n",
       "       -0.6982305 ,  0.11618664,  2.467904  , -2.1547606 , -0.739631  ,\n",
       "        1.0897261 ,  2.0652556 , -0.05324329,  0.8301573 , -0.6290196 ,\n",
       "        0.44428003,  1.7017474 ,  0.88892734,  0.3126757 ,  2.4278514 ,\n",
       "        0.74804056, -1.2939512 ,  1.011677  , -1.5306945 , -1.5915654 ,\n",
       "       -1.5299371 , -0.44998148,  1.4149188 , -0.8594917 ,  1.577242  ,\n",
       "       -0.6344505 , -0.9032584 ,  1.4646606 , -1.4614674 ,  6.1143556 ,\n",
       "        0.83712184,  3.2855406 ,  1.9684132 , -0.45047352,  1.4028502 ,\n",
       "        0.02488691, -0.21236935,  1.1711477 ,  1.8031583 ,  2.6073108 ,\n",
       "        0.5783967 ,  1.0015512 , -0.27642342,  1.586866  , -1.9682683 ,\n",
       "        2.2985861 , -0.475035  , -2.3639555 ,  2.3681524 , -4.1789765 ,\n",
       "        0.20703052, -0.22078744, -0.30440602, -0.767872  , -0.5345111 ,\n",
       "        0.36039785,  1.262619  , -0.27360708, -0.49241704,  1.3958946 ,\n",
       "       -3.48025   ,  1.3962095 , -1.4978223 ,  4.4125676 , -2.671998  ,\n",
       "        0.6542284 , -1.1338562 , -0.45719942,  1.1468984 ,  0.48468998],\n",
       "      dtype=float32)"
      ]
     },
     "execution_count": 21,
     "metadata": {},
     "output_type": "execute_result"
    }
   ],
   "source": [
    "model.wv['man']\n",
    "# This is how man is represented in the vector space"
   ]
  },
  {
   "cell_type": "code",
   "execution_count": 24,
   "id": "7ea60b2e",
   "metadata": {},
   "outputs": [
    {
     "data": {
      "text/plain": [
       "[('women', 0.6936919689178467),\n",
       " ('religious', 0.5325266122817993),\n",
       " ('equality', 0.5183154344558716),\n",
       " ('education', 0.5139808654785156),\n",
       " ('gender', 0.5048641562461853),\n",
       " ('minorities', 0.5042652487754822),\n",
       " ('freedoms', 0.5019639134407043),\n",
       " ('clerics', 0.5002098679542542),\n",
       " ('Women', 0.4905880093574524),\n",
       " ('contraception', 0.4902363717556)]"
      ]
     },
     "execution_count": 24,
     "metadata": {},
     "output_type": "execute_result"
    }
   ],
   "source": [
    "# Testing famous word relationship\n",
    "vec = model.wv['king'] - model.wv['man'] + model.wv['women']\n",
    "model.wv.most_similar([vec])"
   ]
  },
  {
   "cell_type": "code",
   "execution_count": 25,
   "id": "05864410",
   "metadata": {},
   "outputs": [
    {
     "data": {
      "text/plain": [
       "[('Germany', 0.8346685171127319),\n",
       " ('France', 0.8321467638015747),\n",
       " ('Paris', 0.8239686489105225),\n",
       " ('Belgium', 0.7536031603813171),\n",
       " ('Sweden', 0.706184983253479),\n",
       " ('Brussels', 0.6919267177581787),\n",
       " ('Europe', 0.6851240396499634),\n",
       " ('Britain', 0.6824750304222107),\n",
       " ('Switzerland', 0.6539400815963745),\n",
       " ('Denmark', 0.636057436466217)]"
      ]
     },
     "execution_count": 25,
     "metadata": {},
     "output_type": "execute_result"
    }
   ],
   "source": [
    "vec = model.wv['Germany'] - model.wv['Berlin'] + model.wv['Paris']\n",
    "model.wv.most_similar([vec])"
   ]
  },
  {
   "cell_type": "code",
   "execution_count": 29,
   "id": "688154c5",
   "metadata": {},
   "outputs": [
    {
     "data": {
      "text/plain": [
       "[('Siachen', 0.5661122798919678),\n",
       " ('parafoil', 0.5553278923034668),\n",
       " ('Five-year-old', 0.5461567044258118),\n",
       " ('Spicejet', 0.5448758006095886),\n",
       " ('pork-coated', 0.5445743799209595),\n",
       " ('Akram', 0.537392795085907),\n",
       " ('Sikar', 0.536835253238678),\n",
       " ('Pune', 0.5339869856834412),\n",
       " ('46-year-old', 0.525467574596405),\n",
       " ('6-hour', 0.524617612361908)]"
      ]
     },
     "execution_count": 29,
     "metadata": {},
     "output_type": "execute_result"
    }
   ],
   "source": [
    "vec = model.wv['Messi'] - model.wv['Football'] + model.wv['Cricket']\n",
    "model.wv.most_similar([vec])"
   ]
  }
 ],
 "metadata": {
  "kernelspec": {
   "display_name": "Python 3 (ipykernel)",
   "language": "python",
   "name": "python3"
  },
  "language_info": {
   "codemirror_mode": {
    "name": "ipython",
    "version": 3
   },
   "file_extension": ".py",
   "mimetype": "text/x-python",
   "name": "python",
   "nbconvert_exporter": "python",
   "pygments_lexer": "ipython3",
   "version": "3.10.9"
  }
 },
 "nbformat": 4,
 "nbformat_minor": 5
}
