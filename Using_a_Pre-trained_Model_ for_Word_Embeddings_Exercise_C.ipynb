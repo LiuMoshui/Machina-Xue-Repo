{
 "cells": [
  {
   "cell_type": "code",
   "execution_count": 1,
   "id": "8e197ccf",
   "metadata": {},
   "outputs": [],
   "source": [
    "import gensim\n",
    "from gensim.models import Word2Vec, KeyedVectors\n",
    "import os"
   ]
  },
  {
   "cell_type": "markdown",
   "id": "de267368",
   "metadata": {},
   "source": [
    "# Data Preprocessing"
   ]
  },
  {
   "cell_type": "code",
   "execution_count": 2,
   "id": "541fe917",
   "metadata": {},
   "outputs": [],
   "source": [
    "# google pretrained model\n",
    "\n",
    "# https://www.kaggle.com/umbertogriffo/googles-trained-word2vec-model-in-python"
   ]
  },
  {
   "cell_type": "code",
   "execution_count": 3,
   "id": "997f7cf2",
   "metadata": {},
   "outputs": [
    {
     "name": "stdout",
     "output_type": "stream",
     "text": [
      "googles-trained-word2vec-model-in-python.zip: Skipping, found more recently modified local copy (use --force to force download)\n"
     ]
    }
   ],
   "source": [
    "# import the dataset\n",
    "! kaggle datasets download -d umbertogriffo/googles-trained-word2vec-model-in-python"
   ]
  },
  {
   "cell_type": "code",
   "execution_count": 4,
   "id": "0616381c",
   "metadata": {},
   "outputs": [],
   "source": [
    "# unzip the dataset\n",
    "#!bsdtar -xf \"C:\\Users\\Chang.LAPTOP-KLP71L1N\\Documents\\AIE NLP Practical Course\\Word Embeddings\\googles-trained-word2vec-model-in-python.zip\""
   ]
  },
  {
   "cell_type": "markdown",
   "id": "a6149ed9",
   "metadata": {},
   "source": [
    "# Build the model"
   ]
  },
  {
   "cell_type": "code",
   "execution_count": 5,
   "id": "f2b7cb51",
   "metadata": {},
   "outputs": [],
   "source": [
    "model = KeyedVectors.load_word2vec_format(r\"C:\\Users\\Chang.LAPTOP-KLP71L1N\\Documents\\AIE NLP Practical Course\\Word Embeddings\\GoogleNews-vectors-negative300.bin\", binary=True, limit=100000)"
   ]
  },
  {
   "cell_type": "markdown",
   "id": "7747e602",
   "metadata": {},
   "source": [
    "# Predict the output"
   ]
  },
  {
   "cell_type": "code",
   "execution_count": 7,
   "id": "595870ff",
   "metadata": {},
   "outputs": [
    {
     "data": {
      "text/plain": [
       "[('woman', 0.7664015293121338),\n",
       " ('boy', 0.6824868321418762),\n",
       " ('teenager', 0.6586930155754089),\n",
       " ('teenage_girl', 0.614790141582489),\n",
       " ('girl', 0.5921711325645447),\n",
       " ('robber', 0.5585117340087891),\n",
       " ('teen_ager', 0.5549194812774658),\n",
       " ('men', 0.5489762425422668),\n",
       " ('guy', 0.5420035123825073),\n",
       " ('person', 0.5342027544975281)]"
      ]
     },
     "execution_count": 7,
     "metadata": {},
     "output_type": "execute_result"
    }
   ],
   "source": [
    "# find 10 closest words in the vector space created\n",
    "model.most_similar('man')"
   ]
  },
  {
   "cell_type": "code",
   "execution_count": 9,
   "id": "ab2f4e03",
   "metadata": {},
   "outputs": [
    {
     "data": {
      "text/plain": [
       "300"
      ]
     },
     "execution_count": 9,
     "metadata": {},
     "output_type": "execute_result"
    }
   ],
   "source": [
    "len(model['man'])\n",
    "\n",
    "# This is how man is represented in our vector space"
   ]
  },
  {
   "cell_type": "code",
   "execution_count": 11,
   "id": "2b5b8681",
   "metadata": {},
   "outputs": [
    {
     "data": {
      "text/plain": [
       "[('king', 0.6478991508483887),\n",
       " ('queen', 0.5354937314987183),\n",
       " ('women', 0.5233657956123352),\n",
       " ('kings', 0.5162314176559448),\n",
       " ('queens', 0.4995363652706146),\n",
       " ('princes', 0.46233275532722473),\n",
       " ('monarch', 0.45280298590660095),\n",
       " ('monarchy', 0.42931726574897766),\n",
       " ('crown_prince', 0.4230251908302307),\n",
       " ('womens', 0.4175665080547333)]"
      ]
     },
     "execution_count": 11,
     "metadata": {},
     "output_type": "execute_result"
    }
   ],
   "source": [
    "# Testing famous relationship\n",
    "vec = model['king'] - model['man'] + model['women']\n",
    "model.most_similar([vec])"
   ]
  },
  {
   "cell_type": "code",
   "execution_count": 12,
   "id": "3346fed3",
   "metadata": {},
   "outputs": [
    {
     "data": {
      "text/plain": [
       "[('France', 0.7724403142929077),\n",
       " ('Paris', 0.6798242330551147),\n",
       " ('Belgium', 0.598486065864563),\n",
       " ('Germany', 0.5652832388877869),\n",
       " ('Spain', 0.5508159399032593),\n",
       " ('Italy', 0.5462924242019653),\n",
       " ('Marseille', 0.5372347831726074),\n",
       " ('Switzerland', 0.5364956855773926),\n",
       " ('French', 0.5346112847328186),\n",
       " ('Morocco', 0.5051255226135254)]"
      ]
     },
     "execution_count": 12,
     "metadata": {},
     "output_type": "execute_result"
    }
   ],
   "source": [
    "# Relationship\n",
    "vec = model['Germany'] - model['Berlin'] + model['Paris']\n",
    "model.most_similar([vec])"
   ]
  },
  {
   "cell_type": "code",
   "execution_count": 13,
   "id": "2ba5ac38",
   "metadata": {},
   "outputs": [
    {
     "data": {
      "text/plain": [
       "[('Messi', 0.7382578253746033),\n",
       " ('Sehwag', 0.677745521068573),\n",
       " ('Tendulkar', 0.6748220920562744),\n",
       " ('Xavi', 0.661083459854126),\n",
       " ('Dravid', 0.656964898109436),\n",
       " ('Dhoni', 0.6550686955451965),\n",
       " ('Lionel_Messi', 0.6407607197761536),\n",
       " ('Forlan', 0.6406108736991882),\n",
       " ('Yuvraj', 0.6390378475189209),\n",
       " ('Ponting', 0.6390196681022644)]"
      ]
     },
     "execution_count": 13,
     "metadata": {},
     "output_type": "execute_result"
    }
   ],
   "source": [
    "vec = model['Messi'] - model['Football'] + model['Cricket']\n",
    "model.most_similar([vec])"
   ]
  }
 ],
 "metadata": {
  "kernelspec": {
   "display_name": "Python 3 (ipykernel)",
   "language": "python",
   "name": "python3"
  },
  "language_info": {
   "codemirror_mode": {
    "name": "ipython",
    "version": 3
   },
   "file_extension": ".py",
   "mimetype": "text/x-python",
   "name": "python",
   "nbconvert_exporter": "python",
   "pygments_lexer": "ipython3",
   "version": "3.10.9"
  }
 },
 "nbformat": 4,
 "nbformat_minor": 5
}
