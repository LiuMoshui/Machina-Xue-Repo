{
 "cells": [
  {
   "cell_type": "code",
   "execution_count": 1,
   "metadata": {},
   "outputs": [],
   "source": [
    "import torch\n",
    "import torch.nn as nn\n",
    "import torchvision.transforms as transforms\n",
    "import torchvision.datasets as datasets\n",
    "from torch.autograd import Variable"
   ]
  },
  {
   "cell_type": "code",
   "execution_count": 2,
   "metadata": {},
   "outputs": [],
   "source": [
    "# Preprocess and load the MNIST dataset for training and testing with CNN:\n",
    "\n",
    "# Specify the Mean and standard deviation of all the pixels in the MNIST dataset. They are precomputed: \n",
    "mean_gray = 0.1307\n",
    "stddev_gray = 0.3081\n",
    "\n",
    "# Transform the images to tensors\n",
    "# Normalize a tensor image with mean and standard deviation. Given mean: (M1,...,Mn) and std: (S1,..,Sn) \n",
    "# for n channels, this transform will normalize each channel of the input torch.Tensor\n",
    "# i.e. input[channel] = (input[channel] - mean[channel]) / std[channel]\n",
    "\n",
    "transforms = transforms.Compose([transforms.ToTensor(),  # Convert images to PyTorch tensors.\n",
    "                                transforms.Normalize((mean_gray,), (stddev_gray,))]) # Normalize the tensors using the precomputed mean and standard deviation.\n",
    "\n",
    "# Load the MNIST training dataset:\n",
    "# 'root' specifies the directory to store the dataset.\n",
    "# 'train=True' indicates that the training dataset is being loaded.\n",
    "# 'transform=transforms' applies the defined transformation pipeline to the images.\n",
    "# 'download=True' downloads the dataset if it's not already present in the specified directory.\n",
    "train_dataset = datasets.MNIST(root = './data', \n",
    "                            train = True, \n",
    "                            transform = transforms,\n",
    "                            download = True)\n",
    "\n",
    "# Load the MNIST testing dataset:\n",
    "# Similar parameters as the training dataset, but 'train=False' to load the test dataset.\n",
    "test_dataset = datasets.MNIST(root = './data', \n",
    "                            train = False, \n",
    "                            transform = transforms)"
   ]
  },
  {
   "cell_type": "code",
   "execution_count": 3,
   "metadata": {},
   "outputs": [
    {
     "data": {
      "text/plain": [
       "<matplotlib.image.AxesImage at 0x2b53e48d8a0>"
      ]
     },
     "execution_count": 3,
     "metadata": {},
     "output_type": "execute_result"
    },
    {
     "data": {
      "image/png": "[encoded data removed]",
      "text/plain": [
       "<Figure size 640x480 with 1 Axes>"
      ]
     },
     "metadata": {},
     "output_type": "display_data"
    }
   ],
   "source": [
    "# Display a random image from the MNIST training dataset:\n",
    "\n",
    "import matplotlib.pyplot as plt\n",
    "\n",
    "# Extract the 21st image from the training dataset and reverse the normalization process:\n",
    "random_image = train_dataset[20][0].numpy() * stddev_gray + mean_gray\n",
    "\n",
    "# Reshape the image from a 1D tensor to a 2D tensor with shape 28x28.\n",
    "# Display the image using matplotlib with a grayscale color map.\n",
    "plt.imshow(random_image.reshape(28, 28), cmap='gray')"
   ]
  },
  {
   "cell_type": "code",
   "execution_count": 4,
   "metadata": {},
   "outputs": [
    {
     "name": "stdout",
     "output_type": "stream",
     "text": [
      "4\n"
     ]
    }
   ],
   "source": [
    "# Print the corresponding label for the image:\n",
    "print(train_dataset[20][1])   "
   ]
  },
  {
   "cell_type": "code",
   "execution_count": 5,
   "metadata": {},
   "outputs": [],
   "source": [
    "# Create DataLoader instances for iterating over the MNIST training and testing datasets in batches:\n",
    "\n",
    "# Set the batch size for loading the data:\n",
    "batch_size = 100\n",
    "\n",
    "# DataLoader for the training dataset:\n",
    "# 'dataset=train_dataset' specifies the dataset to load.\n",
    "# 'batch_size=batch_size' sets the number of samples per batch.\n",
    "# 'shuffle=True' randomizes the order of the data for each epoch, which helps in reducing overfitting.\n",
    "train_load = torch.utils.data.DataLoader(dataset = train_dataset, \n",
    "                                         batch_size = batch_size,\n",
    "                                         shuffle = True)\n",
    "\n",
    "# DataLoader for the testing dataset:\n",
    "# Similar to the training loader, but 'shuffle=False' as shuffling is not needed for evaluation.\n",
    "test_load = torch.utils.data.DataLoader(dataset = test_dataset, \n",
    "                                         batch_size = batch_size,\n",
    "                                         shuffle = False)"
   ]
  },
  {
   "cell_type": "code",
   "execution_count": 6,
   "metadata": {},
   "outputs": [
    {
     "name": "stdout",
     "output_type": "stream",
     "text": [
      "There are 60000 images in the training set\n",
      "There are 10000 images in the test set\n",
      "There are 600 batches in the train loader\n",
      "There are 100 batches in the testloader\n"
     ]
    }
   ],
   "source": [
    "print('There are {} images in the training set'.format(len(train_dataset)))\n",
    "print('There are {} images in the test set'.format(len(test_dataset)))\n",
    "print('There are {} batches in the train loader'.format(len(train_load)))\n",
    "print('There are {} batches in the testloader'.format(len(test_load)))"
   ]
  },
  {
   "cell_type": "markdown",
   "metadata": {},
   "source": [
    "![cnn mnist](https://user-images.githubusercontent.com/30661597/61713471-3c957d00-ad8b-11e9-9a38-e3f4d1e72565.png)"
   ]
  },
  {
   "cell_type": "code",
   "execution_count": 7,
   "metadata": {},
   "outputs": [],
   "source": [
    "# Define the CNN architecture for MNIST classification:\n",
    "\n",
    "class CNN(nn.Module):\n",
    "    def __init__(self):\n",
    "        super(CNN,self).__init__()\n",
    "        # <<Same Padding = [(filter size - 1) / 2] (Same Padding--> input size = output size)>>\n",
    "        # First convolutional layer with 8 output channels, kernel size 3, stride 1, and padding 1.\n",
    "        # Padding of 1 maintains the same spatial dimensions (28x28) after this layer.\n",
    "        self.cnn1 = nn.Conv2d(in_channels=1, out_channels=8, kernel_size=3,stride=1, padding=1)\n",
    "        \n",
    "        # <<The output size of each of the 8 feature maps is:\n",
    "        # [(input_size - filter_size + 2(padding) / stride) +1] --> [(28-3+2(1)/1)+1] = 28 (padding type is same)>>\n",
    "        # Batch normalization for the first convolutional layer.\n",
    "        self.batchnorm1 = nn.BatchNorm2d(8)\n",
    "        \n",
    "        # RELU:\n",
    "        self.relu = nn.ReLU()\n",
    "        \n",
    "        # Max pooling layer with kernel size 2, reduces spatial dimensions by half (28x28 to 14x14):\n",
    "        self.maxpool = nn.MaxPool2d(kernel_size=2)\n",
    "        \n",
    "        # After max pooling: the output of each feature map is now 28/2 = 14\n",
    "        \n",
    "        # Second convolutional layer with 32 output channels, kernel size 5, stride 1, and padding 2:\n",
    "        # Padding of 2 maintains the same spatial dimensions (14x14) after this layer.\n",
    "        self.cnn2 = nn.Conv2d(in_channels=8, out_channels=32, kernel_size=5, stride=1, padding=2)\n",
    "        \n",
    "        # Output size of each of the 32 feature maps remains 14\n",
    "        \n",
    "        # Batch normalization for the second convolutional layer:\n",
    "        self.batchnorm2 = nn.BatchNorm2d(32)\n",
    "        \n",
    "        \n",
    "        # After max pooling, the output of each feature map is 14/2 = 7\n",
    "        \n",
    "        # Flatten the feature maps. You have 32 feature maps, each of them is of size 7x7 --> 32*7*7 = 1568\n",
    "        # <<Fully connected layer to map the flattened feature maps to 600 features.>>\n",
    "        self.fc1 = nn.Linear(in_features=1568, out_features=600)\n",
    "        \n",
    "        # Dropout layer with a dropout probability of 0.5:\n",
    "        self.droput = nn.Dropout(p=0.5)\n",
    "        \n",
    "        # Second fully connected layer to map 600 features to 10 output classes (digits 0-9):\n",
    "        self.fc2 = nn.Linear(in_features=600, out_features=10)\n",
    "        \n",
    "    def forward(self,x):\n",
    "        \n",
    "        # Forward pass through the first convolutional layer, batch normalization, ReLU, and max pooling:\n",
    "        out = self.cnn1(x)\n",
    "        out = self.batchnorm1(out)\n",
    "        out = self.relu(out)\n",
    "        out = self.maxpool(out)\n",
    "        \n",
    "        # Forward pass through the second convolutional layer, batch normalization, ReLU, and max pooling:\n",
    "        out = self.cnn2(out)\n",
    "        out = self.batchnorm2(out)\n",
    "        out = self.relu(out)\n",
    "        out = self.maxpool(out)\n",
    "        \n",
    "        \n",
    "        # Flatten the output from the convolutional layers to feed into the fully connected layer:\n",
    "        # <<The flattened size is 1568, which is calculated from 32 feature maps each of size 7x7.>>\n",
    "        out = out.view(-1,1568)\n",
    "        \n",
    "        # Forward pass through the first fully connected layer with ReLU activation:\n",
    "        out = self.fc1(out)\n",
    "        out = self.relu(out)\n",
    "        \n",
    "        # Apply dropout to reduce overfitting:\n",
    "        out = self.droput(out)\n",
    "        \n",
    "        # Forward pass through the second fully connected layer to get the final output:\n",
    "        out = self.fc2(out)\n",
    "        \n",
    "        return out"
   ]
  },
  {
   "cell_type": "code",
   "execution_count": 8,
   "metadata": {},
   "outputs": [],
   "source": [
    "# Initialize the CNN model, set up the loss function, and configure the optimizer:\n",
    "\n",
    "\n",
    "# Create an instance of the CNN model:\n",
    "model = CNN()\n",
    "\n",
    "# Check if CUDA (GPU support) is available and move the model to GPU if it is:\n",
    "CUDA = torch.cuda.is_available()\n",
    "if CUDA:\n",
    "    model = model.cuda()  \n",
    "\n",
    "# Define the loss function as CrossEntropyLoss, which is commonly used for classification tasks:\n",
    "loss_fn = nn.CrossEntropyLoss()\n",
    "\n",
    "# Define the optimizer as Stochastic Gradient Descent (SGD) with a learning rate of 0.01.\n",
    "# SGD is a basic yet effective optimization algorithm used in training neural networks.\n",
    "optimizer = torch.optim.SGD(model.parameters(), lr = 0.01)"
   ]
  },
  {
   "cell_type": "code",
   "execution_count": 9,
   "metadata": {},
   "outputs": [
    {
     "name": "stdout",
     "output_type": "stream",
     "text": [
      "For one iteration, this is what happens:\n",
      "Input Shape: torch.Size([100, 1, 28, 28])\n",
      "Labels Shape: torch.Size([100])\n",
      "Outputs Shape torch.Size([100, 10])\n",
      "Predicted Shape torch.Size([100])\n",
      "Predicted Tensor:\n",
      "tensor([3, 3, 5, 3, 8, 8, 3, 4, 8, 4, 8, 5, 3, 7, 4, 4, 8, 5, 8, 7, 3, 4, 7, 8,\n",
      "        3, 8, 7, 8, 7, 3, 7, 3, 7, 3, 8, 7, 4, 5, 2, 3, 3, 3, 8, 8, 6, 4, 4, 7,\n",
      "        4, 6, 3, 6, 3, 3, 4, 7, 3, 8, 7, 8, 3, 4, 3, 3, 7, 3, 3, 4, 7, 3, 3, 7,\n",
      "        3, 7, 6, 3, 4, 2, 7, 7, 3, 4, 6, 7, 3, 7, 7, 3, 7, 7, 6, 3, 4, 7, 8, 5,\n",
      "        7, 3, 3, 4])\n"
     ]
    }
   ],
   "source": [
    "# Understanding the data flow for a single iteration in the training loop:\n",
    "\n",
    "iteration = 0\n",
    "correct = 0\n",
    "\n",
    "# Iterate over the training data once (one batch):\n",
    "for i,(inputs,labels) in enumerate (train_load):\n",
    "    # Move the inputs and labels to GPU if CUDA is available.\n",
    "    if CUDA:\n",
    "        inputs = inputs.cuda()\n",
    "        labels = labels.cuda()\n",
    "    \n",
    "    # Print details for one iteration:\n",
    "    print(\"For one iteration, this is what happens:\")\n",
    "    \n",
    "    # Display the shape of the inputs. This represents the batch of images:\n",
    "    print(\"Input Shape:\",inputs.shape)\n",
    "    \n",
    "    # Display the shape of the labels. This represents the actual digit labels for the batch:\n",
    "    print(\"Labels Shape:\",labels.shape)\n",
    "    \n",
    "    # Forward pass: Compute the predicted outputs by passing the inputs through the model:\n",
    "    output = model(inputs)\n",
    "    \n",
    "    # Display the shape of the output from the model. This represents the model's predictions:\n",
    "    print(\"Outputs Shape\",output.shape)\n",
    "    \n",
    "    # Get the predicted classes from the maximum value of the outputs:\n",
    "    _, predicted = torch.max(output, 1)\n",
    "    \n",
    "    # Display the shape of the predicted tensor:\n",
    "    print(\"Predicted Shape\",predicted.shape)\n",
    "    \n",
    "    # Print the predicted class labels for the batch:\n",
    "    print(\"Predicted Tensor:\")\n",
    "    print(predicted)\n",
    "    \n",
    "    # Count how many predictions match the actual labels:\n",
    "    correct += (predicted == labels).sum()\n",
    "    \n",
    "    # Break the loop after one iteration to analyze this single batch:\n",
    "    break"
   ]
  },
  {
   "cell_type": "markdown",
   "metadata": {},
   "source": [
    "## Training & Testing"
   ]
  },
  {
   "cell_type": "code",
   "execution_count": 10,
   "metadata": {},
   "outputs": [
    {
     "name": "stdout",
     "output_type": "stream",
     "text": [
      "Epoch 1/25, Training Loss: 0.484, Training Accuracy: 87.360, Testing Loss: 0.147, Testing Acc: 95.970\n",
      "Epoch 2/25, Training Loss: 0.158, Training Accuracy: 95.418, Testing Loss: 0.091, Testing Acc: 97.410\n",
      "Epoch 3/25, Training Loss: 0.115, Training Accuracy: 96.665, Testing Loss: 0.075, Testing Acc: 97.720\n",
      "Epoch 4/25, Training Loss: 0.092, Training Accuracy: 97.350, Testing Loss: 0.065, Testing Acc: 97.990\n",
      "Epoch 5/25, Training Loss: 0.078, Training Accuracy: 97.752, Testing Loss: 0.054, Testing Acc: 98.280\n",
      "Epoch 6/25, Training Loss: 0.070, Training Accuracy: 97.985, Testing Loss: 0.049, Testing Acc: 98.520\n",
      "Epoch 7/25, Training Loss: 0.064, Training Accuracy: 98.163, Testing Loss: 0.045, Testing Acc: 98.600\n",
      "Epoch 8/25, Training Loss: 0.059, Training Accuracy: 98.272, Testing Loss: 0.043, Testing Acc: 98.630\n",
      "Epoch 9/25, Training Loss: 0.055, Training Accuracy: 98.408, Testing Loss: 0.040, Testing Acc: 98.680\n",
      "Epoch 10/25, Training Loss: 0.050, Training Accuracy: 98.528, Testing Loss: 0.037, Testing Acc: 98.780\n",
      "Epoch 11/25, Training Loss: 0.048, Training Accuracy: 98.563, Testing Loss: 0.038, Testing Acc: 98.680\n",
      "Epoch 12/25, Training Loss: 0.046, Training Accuracy: 98.648, Testing Loss: 0.035, Testing Acc: 98.820\n",
      "Epoch 13/25, Training Loss: 0.042, Training Accuracy: 98.782, Testing Loss: 0.034, Testing Acc: 98.820\n",
      "Epoch 14/25, Training Loss: 0.040, Training Accuracy: 98.830, Testing Loss: 0.033, Testing Acc: 98.870\n",
      "Epoch 15/25, Training Loss: 0.039, Training Accuracy: 98.898, Testing Loss: 0.032, Testing Acc: 98.910\n",
      "Epoch 16/25, Training Loss: 0.037, Training Accuracy: 98.867, Testing Loss: 0.032, Testing Acc: 98.930\n",
      "Epoch 17/25, Training Loss: 0.035, Training Accuracy: 98.977, Testing Loss: 0.032, Testing Acc: 98.960\n",
      "Epoch 18/25, Training Loss: 0.034, Training Accuracy: 98.972, Testing Loss: 0.032, Testing Acc: 98.890\n",
      "Epoch 19/25, Training Loss: 0.032, Training Accuracy: 99.055, Testing Loss: 0.030, Testing Acc: 98.970\n",
      "Epoch 20/25, Training Loss: 0.030, Training Accuracy: 99.105, Testing Loss: 0.029, Testing Acc: 98.970\n",
      "Epoch 21/25, Training Loss: 0.029, Training Accuracy: 99.112, Testing Loss: 0.029, Testing Acc: 98.990\n",
      "Epoch 22/25, Training Loss: 0.029, Training Accuracy: 99.140, Testing Loss: 0.029, Testing Acc: 98.970\n",
      "Epoch 23/25, Training Loss: 0.027, Training Accuracy: 99.228, Testing Loss: 0.030, Testing Acc: 99.000\n",
      "Epoch 24/25, Training Loss: 0.027, Training Accuracy: 99.228, Testing Loss: 0.028, Testing Acc: 99.030\n",
      "Epoch 25/25, Training Loss: 0.025, Training Accuracy: 99.285, Testing Loss: 0.028, Testing Acc: 98.960\n"
     ]
    }
   ],
   "source": [
    "# Training and testing the CNN over multiple epochs:\n",
    "\n",
    "num_epochs = 25\n",
    "\n",
    "# Initialize lists to store the metrics of loss and accuracy for both training and testing:\n",
    "train_loss = []\n",
    "test_loss = []\n",
    "train_accuracy = []\n",
    "test_accuracy = []\n",
    "\n",
    "# Begin training over multiple epochs:\n",
    "for epoch in range(num_epochs): \n",
    "    # Reset these below variables to 0 at the begining of every epoch:\n",
    "    correct = 0\n",
    "    iterations = 0\n",
    "    iter_loss = 0.0\n",
    "    \n",
    "    # Set the model to training mode:\n",
    "    model.train()                 \n",
    "    \n",
    "    # Training loop:\n",
    "    for i, (inputs, labels) in enumerate(train_load):\n",
    "        \n",
    "        # Move data to GPU if CUDA is available:\n",
    "        if CUDA:\n",
    "            inputs = inputs.cuda()\n",
    "            labels = labels.cuda()\n",
    "            \n",
    "        # Forward pass: Compute the output of the model:\n",
    "        outputs = model(inputs)  \n",
    "        \n",
    "        # Compute the loss:\n",
    "        loss = loss_fn(outputs, labels)\n",
    "        \n",
    "        # Accumulate the los:\n",
    "        iter_loss += loss.item()\n",
    "        \n",
    "        # Zero the gradients, perform backpropagation, and update the weights:\n",
    "        # <<w = w - gradient>>\n",
    "        optimizer.zero_grad()            \n",
    "        loss.backward()                 \n",
    "        optimizer.step()                \n",
    "        \n",
    "        # Calculate the number of correct predictions:\n",
    "        _, predicted = torch.max(outputs, 1)\n",
    "        correct += (predicted == labels).sum()\n",
    "        iterations += 1\n",
    "    \n",
    "    # Record the average training loss and accuracy:\n",
    "    train_loss.append(iter_loss/iterations)\n",
    "    train_accuracy.append((100 * correct / len(train_dataset)))\n",
    "   \n",
    "    # Testing loop:\n",
    "    \n",
    "    testing_loss = 0.0\n",
    "    correct = 0\n",
    "    iterations = 0\n",
    "    \n",
    "    # Set the model to evaluation mode:\n",
    "    model.eval()                    \n",
    "    \n",
    "    for i, (inputs, labels) in enumerate(test_load):\n",
    "        # Move data to GPU if CUDA is available:\n",
    "        if CUDA:\n",
    "            inputs = inputs.cuda()\n",
    "            labels = labels.cuda()\n",
    "        \n",
    "        # Forward pass and loss computation:\n",
    "        outputs = model(inputs)\n",
    "        \n",
    "        # Calculate the loss:\n",
    "        loss = loss_fn(outputs, labels) \n",
    "        \n",
    "        # Accumulate the loss:\n",
    "        testing_loss += loss.item() \n",
    "        \n",
    "        # Calculate the number of correct predictions:\n",
    "        _, predicted = torch.max(outputs, 1)\n",
    "        correct += (predicted == labels).sum()\n",
    "        iterations += 1\n",
    "\n",
    "    # Record the average testing loss and accuracy:\n",
    "    test_loss.append(testing_loss/iterations)\n",
    "    test_accuracy.append((100 * correct / len(test_dataset)))\n",
    "    \n",
    "    # Print the metrics for this epoch:\n",
    "    print ('Epoch {}/{}, Training Loss: {:.3f}, Training Accuracy: {:.3f}, Testing Loss: {:.3f}, Testing Acc: {:.3f}'\n",
    "           .format(epoch+1, num_epochs, train_loss[-1], train_accuracy[-1], \n",
    "             test_loss[-1], test_accuracy[-1]))"
   ]
  },
  {
   "cell_type": "code",
   "execution_count": 11,
   "metadata": {},
   "outputs": [
    {
     "data": {
      "image/png": "[encoded data removed]",
      "text/plain": [
       "<Figure size 1000x1000 with 1 Axes>"
      ]
     },
     "metadata": {},
     "output_type": "display_data"
    }
   ],
   "source": [
    "# Plotting the training and testing loss over epochs:\n",
    "\n",
    "# Create a figure with specified size:\n",
    "f = plt.figure(figsize=(10, 10))\n",
    "\n",
    "# Plot the training loss:\n",
    "plt.plot(train_loss, label='Training Loss')\n",
    "\n",
    "# Plot the testing loss:\n",
    "plt.plot(test_loss, label='Testing Loss')\n",
    "\n",
    "# Add a legend to the plot:\n",
    "plt.legend()\n",
    "\n",
    "# Display the plot:\n",
    "plt.show()"
   ]
  },
  {
   "cell_type": "code",
   "execution_count": 12,
   "metadata": {},
   "outputs": [
    {
     "data": {
      "image/png": "[encoded data removed]",
      "text/plain": [
       "<Figure size 1000x1000 with 1 Axes>"
      ]
     },
     "metadata": {},
     "output_type": "display_data"
    }
   ],
   "source": [
    "# Plotting the training and testing accuracy over epochs:\n",
    "\n",
    "# Create a figure with specified size for the accuracy plot:\n",
    "f = plt.figure(figsize=(10, 10))\n",
    "\n",
    "# Plot the training accuracy:\n",
    "plt.plot(train_accuracy, label='Training Accuracy')\n",
    "\n",
    "# Plot the testing accuracy:\n",
    "plt.plot(test_accuracy, label='Testing Accuracy')\n",
    "\n",
    "# Add a legend to differentiate between training and testing accuracy:\n",
    "plt.legend()\n",
    "\n",
    "# Display the plot:\n",
    "plt.show()"
   ]
  },
  {
   "cell_type": "code",
   "execution_count": 13,
   "metadata": {},
   "outputs": [
    {
     "name": "stdout",
     "output_type": "stream",
     "text": [
      "Prediction is: 3\n",
      "Actual is: 3\n"
     ]
    }
   ],
   "source": [
    "# Testing the model with a single image from the test dataset:\n",
    "\n",
    "# Select and preprocess the 31st image from the test dataset:\n",
    "img = test_dataset[30][0].resize_((1, 1, 28, 28)) # <<(batch_size,channels,height,width)>>\n",
    "label = test_dataset[30][1] # Get the actual label of the image.\n",
    "\n",
    "# Get the actual label of the image:\n",
    "model.eval()\n",
    "\n",
    "# Move the model and image to GPU if CUDA is available:\n",
    "if CUDA:\n",
    "    model = model.cuda()\n",
    "    img = img.cuda()\n",
    "\n",
    "# Forward pass to get the output from the model:\n",
    "output = model(img)\n",
    "\n",
    "# Get the predicted class from the maximum value of the outputs:\n",
    "_, predicted = torch.max(output,1)\n",
    "\n",
    "# Print the model's prediction and the actual label:\n",
    "print(\"Prediction is: {}\".format(predicted.item()))\n",
    "print(\"Actual is: {}\".format(label))"
   ]
  }
 ],
 "metadata": {
  "kernelspec": {
   "display_name": "Python 3 (ipykernel)",
   "language": "python",
   "name": "python3"
  },
  "language_info": {
   "codemirror_mode": {
    "name": "ipython",
    "version": 3
   },
   "file_extension": ".py",
   "mimetype": "text/x-python",
   "name": "python",
   "nbconvert_exporter": "python",
   "pygments_lexer": "ipython3",
   "version": "3.10.9"
  }
 },
 "nbformat": 4,
 "nbformat_minor": 2
}
